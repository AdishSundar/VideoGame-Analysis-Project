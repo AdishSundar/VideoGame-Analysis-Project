{
 "cells": [
  {
   "cell_type": "markdown",
   "id": "d21364cd",
   "metadata": {},
   "source": [
    "# Analysis of 40+ Years of Video Game Data\n",
    "\n",
    "- This Analysis involves NLP Techniques, Statistical modeling of Video Game Trends, Coorelation Matrices, Sentiment Analysis, various visualizations, Time Series Data, and lastly utilizing Machine Learning Models to create a genre classification model."
   ]
  },
  {
   "cell_type": "code",
   "execution_count": 44,
   "id": "89ab03a8",
   "metadata": {},
   "outputs": [],
   "source": [
    "import pandas as pd\n",
    "import numpy as np\n",
    "import matplotlib.pyplot as plt\n",
    "from nltk.sentiment import SentimentIntensityAnalyzer\n",
    "from datetime import datetime\n",
    "import plotly.graph_objects as go"
   ]
  },
  {
   "cell_type": "code",
   "execution_count": 69,
   "id": "3ede67dd",
   "metadata": {},
   "outputs": [],
   "source": [
    "# Dataset of Popular Video Games (1980 - 2023) 🎮 \n",
    "\n",
    "data = pd.read_csv('/Users/adishsundar/Desktop/FinalPortfolio/games.csv')"
   ]
  },
  {
   "cell_type": "code",
   "execution_count": 9,
   "id": "ccad2174",
   "metadata": {},
   "outputs": [
    {
     "name": "stdout",
     "output_type": "stream",
     "text": [
      "1512\n"
     ]
    },
    {
     "data": {
      "text/html": [
       "<div>\n",
       "<style scoped>\n",
       "    .dataframe tbody tr th:only-of-type {\n",
       "        vertical-align: middle;\n",
       "    }\n",
       "\n",
       "    .dataframe tbody tr th {\n",
       "        vertical-align: top;\n",
       "    }\n",
       "\n",
       "    .dataframe thead th {\n",
       "        text-align: right;\n",
       "    }\n",
       "</style>\n",
       "<table border=\"1\" class=\"dataframe\">\n",
       "  <thead>\n",
       "    <tr style=\"text-align: right;\">\n",
       "      <th></th>\n",
       "      <th>Rating</th>\n",
       "    </tr>\n",
       "  </thead>\n",
       "  <tbody>\n",
       "    <tr>\n",
       "      <th>min</th>\n",
       "      <td>0.700000</td>\n",
       "    </tr>\n",
       "    <tr>\n",
       "      <th>max</th>\n",
       "      <td>4.800000</td>\n",
       "    </tr>\n",
       "    <tr>\n",
       "      <th>median</th>\n",
       "      <td>3.800000</td>\n",
       "    </tr>\n",
       "    <tr>\n",
       "      <th>skew</th>\n",
       "      <td>-1.005106</td>\n",
       "    </tr>\n",
       "    <tr>\n",
       "      <th>mean</th>\n",
       "      <td>3.719346</td>\n",
       "    </tr>\n",
       "  </tbody>\n",
       "</table>\n",
       "</div>"
      ],
      "text/plain": [
       "          Rating\n",
       "min     0.700000\n",
       "max     4.800000\n",
       "median  3.800000\n",
       "skew   -1.005106\n",
       "mean    3.719346"
      ]
     },
     "execution_count": 9,
     "metadata": {},
     "output_type": "execute_result"
    }
   ],
   "source": [
    "# There are 1512 Games in this dataset. The highest rating is a 4.8, with an average rating of 3.7\n",
    "\n",
    "# Interestingly enough, the Skew is -1, meaning that there is a high concentration of data on the right side of \n",
    "# ratings, showcasing that most ratings are higher rather than lower.\n",
    "\n",
    "print(len(data[\"Rating\"]))\n",
    "\n",
    "data.agg(\n",
    "    {\n",
    "        \"Rating\": [\"min\", \"max\", \"median\", \"skew\", \"mean\"]\n",
    "    }\n",
    ")"
   ]
  },
  {
   "cell_type": "code",
   "execution_count": 10,
   "id": "1c2c9dc0",
   "metadata": {},
   "outputs": [
    {
     "data": {
      "text/html": [
       "<div>\n",
       "<style scoped>\n",
       "    .dataframe tbody tr th:only-of-type {\n",
       "        vertical-align: middle;\n",
       "    }\n",
       "\n",
       "    .dataframe tbody tr th {\n",
       "        vertical-align: top;\n",
       "    }\n",
       "\n",
       "    .dataframe thead th {\n",
       "        text-align: right;\n",
       "    }\n",
       "</style>\n",
       "<table border=\"1\" class=\"dataframe\">\n",
       "  <thead>\n",
       "    <tr style=\"text-align: right;\">\n",
       "      <th></th>\n",
       "      <th>Unnamed: 0</th>\n",
       "      <th>Title</th>\n",
       "      <th>Release Date</th>\n",
       "      <th>Team</th>\n",
       "      <th>Rating</th>\n",
       "      <th>Times Listed</th>\n",
       "      <th>Number of Reviews</th>\n",
       "      <th>Genres</th>\n",
       "      <th>Summary</th>\n",
       "      <th>Reviews</th>\n",
       "      <th>Plays</th>\n",
       "      <th>Playing</th>\n",
       "      <th>Backlogs</th>\n",
       "      <th>Wishlist</th>\n",
       "    </tr>\n",
       "  </thead>\n",
       "  <tbody>\n",
       "    <tr>\n",
       "      <th>1391</th>\n",
       "      <td>1391</td>\n",
       "      <td>100% Orange Juice</td>\n",
       "      <td>Aug 15, 2009</td>\n",
       "      <td>['Orange_Juice', 'Fruitbat Factory']</td>\n",
       "      <td>3.4</td>\n",
       "      <td>112</td>\n",
       "      <td>112</td>\n",
       "      <td>['Card &amp; Board Game', 'Indie', 'Strategy', 'Tu...</td>\n",
       "      <td>100% Orange Juice is a goal-oriented boardgame...</td>\n",
       "      <td>[\"Played with a few friends, had a mostly awfu...</td>\n",
       "      <td>1.8K</td>\n",
       "      <td>51</td>\n",
       "      <td>292</td>\n",
       "      <td>89</td>\n",
       "    </tr>\n",
       "    <tr>\n",
       "      <th>972</th>\n",
       "      <td>972</td>\n",
       "      <td>The Legend of Zelda: Tears of the Kingdom</td>\n",
       "      <td>May 12, 2023</td>\n",
       "      <td>['Nintendo', 'Nintendo EPD Production Group No...</td>\n",
       "      <td>NaN</td>\n",
       "      <td>581</td>\n",
       "      <td>581</td>\n",
       "      <td>['Adventure', 'RPG']</td>\n",
       "      <td>The Legend of Zelda: Tears of the Kingdom is t...</td>\n",
       "      <td>[]</td>\n",
       "      <td>72</td>\n",
       "      <td>6</td>\n",
       "      <td>1.6K</td>\n",
       "      <td>5.4K</td>\n",
       "    </tr>\n",
       "    <tr>\n",
       "      <th>904</th>\n",
       "      <td>904</td>\n",
       "      <td>Dead Space</td>\n",
       "      <td>Jan 27, 2023</td>\n",
       "      <td>['Motive Studios', 'Electronic Arts']</td>\n",
       "      <td>4.3</td>\n",
       "      <td>501</td>\n",
       "      <td>501</td>\n",
       "      <td>['Adventure', 'RPG', 'Shooter']</td>\n",
       "      <td>The sci-fi survival horror classic Dead Space ...</td>\n",
       "      <td>['Pretty damn good\\n                     \\n   ...</td>\n",
       "      <td>1.3K</td>\n",
       "      <td>248</td>\n",
       "      <td>985</td>\n",
       "      <td>1.9K</td>\n",
       "    </tr>\n",
       "  </tbody>\n",
       "</table>\n",
       "</div>"
      ],
      "text/plain": [
       "      Unnamed: 0                                      Title  Release Date  \\\n",
       "1391        1391                          100% Orange Juice  Aug 15, 2009   \n",
       "972          972  The Legend of Zelda: Tears of the Kingdom  May 12, 2023   \n",
       "904          904                                 Dead Space  Jan 27, 2023   \n",
       "\n",
       "                                                   Team  Rating Times Listed  \\\n",
       "1391               ['Orange_Juice', 'Fruitbat Factory']     3.4          112   \n",
       "972   ['Nintendo', 'Nintendo EPD Production Group No...     NaN          581   \n",
       "904               ['Motive Studios', 'Electronic Arts']     4.3          501   \n",
       "\n",
       "     Number of Reviews                                             Genres  \\\n",
       "1391               112  ['Card & Board Game', 'Indie', 'Strategy', 'Tu...   \n",
       "972                581                               ['Adventure', 'RPG']   \n",
       "904                501                    ['Adventure', 'RPG', 'Shooter']   \n",
       "\n",
       "                                                Summary  \\\n",
       "1391  100% Orange Juice is a goal-oriented boardgame...   \n",
       "972   The Legend of Zelda: Tears of the Kingdom is t...   \n",
       "904   The sci-fi survival horror classic Dead Space ...   \n",
       "\n",
       "                                                Reviews Plays Playing  \\\n",
       "1391  [\"Played with a few friends, had a mostly awfu...  1.8K      51   \n",
       "972                                                  []    72       6   \n",
       "904   ['Pretty damn good\\n                     \\n   ...  1.3K     248   \n",
       "\n",
       "     Backlogs Wishlist  \n",
       "1391      292       89  \n",
       "972      1.6K     5.4K  \n",
       "904       985     1.9K  "
      ]
     },
     "execution_count": 10,
     "metadata": {},
     "output_type": "execute_result"
    }
   ],
   "source": [
    "data.sample(3)"
   ]
  },
  {
   "cell_type": "code",
   "execution_count": 70,
   "id": "2bebd7d7",
   "metadata": {},
   "outputs": [],
   "source": [
    "# Unnecessary Column\n",
    "\n",
    "del data['Unnamed: 0']"
   ]
  },
  {
   "cell_type": "code",
   "execution_count": 12,
   "id": "08461029",
   "metadata": {},
   "outputs": [
    {
     "data": {
      "text/html": [
       "<div>\n",
       "<style scoped>\n",
       "    .dataframe tbody tr th:only-of-type {\n",
       "        vertical-align: middle;\n",
       "    }\n",
       "\n",
       "    .dataframe tbody tr th {\n",
       "        vertical-align: top;\n",
       "    }\n",
       "\n",
       "    .dataframe thead th {\n",
       "        text-align: right;\n",
       "    }\n",
       "</style>\n",
       "<table border=\"1\" class=\"dataframe\">\n",
       "  <thead>\n",
       "    <tr style=\"text-align: right;\">\n",
       "      <th></th>\n",
       "      <th>Title</th>\n",
       "      <th>Release Date</th>\n",
       "      <th>Team</th>\n",
       "      <th>Rating</th>\n",
       "      <th>Times Listed</th>\n",
       "      <th>Number of Reviews</th>\n",
       "      <th>Genres</th>\n",
       "      <th>Summary</th>\n",
       "      <th>Reviews</th>\n",
       "      <th>Plays</th>\n",
       "      <th>Playing</th>\n",
       "      <th>Backlogs</th>\n",
       "      <th>Wishlist</th>\n",
       "    </tr>\n",
       "  </thead>\n",
       "  <tbody>\n",
       "    <tr>\n",
       "      <th>1252</th>\n",
       "      <td>Elden Ring: Shadow of the Erdtree</td>\n",
       "      <td>releases on TBD</td>\n",
       "      <td>['FromSoftware', 'Bandai Namco Entertainment']</td>\n",
       "      <td>4.8</td>\n",
       "      <td>18</td>\n",
       "      <td>18</td>\n",
       "      <td>['Adventure', 'RPG']</td>\n",
       "      <td>An expansion to Elden Ring setting players on ...</td>\n",
       "      <td>['I really loved that they integrated Family G...</td>\n",
       "      <td>1</td>\n",
       "      <td>0</td>\n",
       "      <td>39</td>\n",
       "      <td>146</td>\n",
       "    </tr>\n",
       "    <tr>\n",
       "      <th>28</th>\n",
       "      <td>Disco Elysium: The Final Cut</td>\n",
       "      <td>May 01, 2020</td>\n",
       "      <td>['ZA/UM']</td>\n",
       "      <td>4.6</td>\n",
       "      <td>1.1K</td>\n",
       "      <td>1.1K</td>\n",
       "      <td>['Adventure', 'Indie', 'RPG']</td>\n",
       "      <td>Disco Elysium: The Final Cut is a groundbreaki...</td>\n",
       "      <td>[\"a captivating journey from start to finish. ...</td>\n",
       "      <td>6K</td>\n",
       "      <td>1.2K</td>\n",
       "      <td>5K</td>\n",
       "      <td>2.7K</td>\n",
       "    </tr>\n",
       "    <tr>\n",
       "      <th>1035</th>\n",
       "      <td>Bloodborne: The Old Hunters</td>\n",
       "      <td>Nov 24, 2015</td>\n",
       "      <td>['FromSoftware', 'Sony Computer Entertainment']</td>\n",
       "      <td>4.6</td>\n",
       "      <td>266</td>\n",
       "      <td>266</td>\n",
       "      <td>['Adventure', 'RPG']</td>\n",
       "      <td>The Old Hunters is the first Expansion for Blo...</td>\n",
       "      <td>['HAHA FINALMENTE MATEI O LAWRENCE E O ÓRFÃO D...</td>\n",
       "      <td>4.4K</td>\n",
       "      <td>68</td>\n",
       "      <td>930</td>\n",
       "      <td>616</td>\n",
       "    </tr>\n",
       "    <tr>\n",
       "      <th>539</th>\n",
       "      <td>Umineko: When They Cry Chiru</td>\n",
       "      <td>Sep 15, 2009</td>\n",
       "      <td>['07th Expansion']</td>\n",
       "      <td>4.6</td>\n",
       "      <td>324</td>\n",
       "      <td>324</td>\n",
       "      <td>['Adventure', 'Visual Novel']</td>\n",
       "      <td>Umineko no Naku Koro ni Chiru is the second ha...</td>\n",
       "      <td>['cried like a little bitch ngl', \"God I reall...</td>\n",
       "      <td>1.7K</td>\n",
       "      <td>108</td>\n",
       "      <td>582</td>\n",
       "      <td>493</td>\n",
       "    </tr>\n",
       "    <tr>\n",
       "      <th>369</th>\n",
       "      <td>Outer Wilds</td>\n",
       "      <td>May 28, 2019</td>\n",
       "      <td>['Mobius Digital', 'Annapurna Interactive']</td>\n",
       "      <td>4.6</td>\n",
       "      <td>1.8K</td>\n",
       "      <td>1.8K</td>\n",
       "      <td>['Adventure', 'Indie', 'Puzzle', 'Simulator']</td>\n",
       "      <td>Outer Wilds is a critically-acclaimed and awar...</td>\n",
       "      <td>['Replayed with my girlfriend, still the best ...</td>\n",
       "      <td>7.7K</td>\n",
       "      <td>661</td>\n",
       "      <td>4.8K</td>\n",
       "      <td>3.1K</td>\n",
       "    </tr>\n",
       "    <tr>\n",
       "      <th>354</th>\n",
       "      <td>Disco Elysium: The Final Cut</td>\n",
       "      <td>May 01, 2020</td>\n",
       "      <td>['ZA/UM']</td>\n",
       "      <td>4.6</td>\n",
       "      <td>1.1K</td>\n",
       "      <td>1.1K</td>\n",
       "      <td>['Adventure', 'Indie', 'RPG']</td>\n",
       "      <td>Disco Elysium: The Final Cut is a groundbreaki...</td>\n",
       "      <td>[\"a captivating journey from start to finish. ...</td>\n",
       "      <td>6K</td>\n",
       "      <td>1.2K</td>\n",
       "      <td>5K</td>\n",
       "      <td>2.7K</td>\n",
       "    </tr>\n",
       "    <tr>\n",
       "      <th>43</th>\n",
       "      <td>Outer Wilds</td>\n",
       "      <td>May 28, 2019</td>\n",
       "      <td>['Mobius Digital', 'Annapurna Interactive']</td>\n",
       "      <td>4.6</td>\n",
       "      <td>1.8K</td>\n",
       "      <td>1.8K</td>\n",
       "      <td>['Adventure', 'Indie', 'Puzzle', 'Simulator']</td>\n",
       "      <td>Outer Wilds is a critically-acclaimed and awar...</td>\n",
       "      <td>['Replayed with my girlfriend, still the best ...</td>\n",
       "      <td>7.7K</td>\n",
       "      <td>661</td>\n",
       "      <td>4.8K</td>\n",
       "      <td>3.1K</td>\n",
       "    </tr>\n",
       "    <tr>\n",
       "      <th>717</th>\n",
       "      <td>Hitman World of Assassination</td>\n",
       "      <td>Jan 26, 2023</td>\n",
       "      <td>['Inlusio Interactive', 'IO Interactive']</td>\n",
       "      <td>4.6</td>\n",
       "      <td>38</td>\n",
       "      <td>38</td>\n",
       "      <td>['Adventure', 'Shooter', 'Tactical']</td>\n",
       "      <td>Become Agent 47 in the ultimate spy-thriller a...</td>\n",
       "      <td>['Aunque ya había jugado a los tres Hitman, va...</td>\n",
       "      <td>167</td>\n",
       "      <td>47</td>\n",
       "      <td>54</td>\n",
       "      <td>54</td>\n",
       "    </tr>\n",
       "    <tr>\n",
       "      <th>297</th>\n",
       "      <td>Bloodborne: The Old Hunters</td>\n",
       "      <td>Nov 24, 2015</td>\n",
       "      <td>['FromSoftware', 'Sony Computer Entertainment']</td>\n",
       "      <td>4.6</td>\n",
       "      <td>266</td>\n",
       "      <td>266</td>\n",
       "      <td>['Adventure', 'RPG']</td>\n",
       "      <td>The Old Hunters is the first Expansion for Blo...</td>\n",
       "      <td>['HAHA FINALMENTE MATEI O LAWRENCE E O ÓRFÃO D...</td>\n",
       "      <td>4.4K</td>\n",
       "      <td>68</td>\n",
       "      <td>930</td>\n",
       "      <td>616</td>\n",
       "    </tr>\n",
       "    <tr>\n",
       "      <th>804</th>\n",
       "      <td>Disco Elysium: The Final Cut</td>\n",
       "      <td>May 01, 2020</td>\n",
       "      <td>['ZA/UM']</td>\n",
       "      <td>4.6</td>\n",
       "      <td>1.1K</td>\n",
       "      <td>1.1K</td>\n",
       "      <td>['Adventure', 'Indie', 'RPG']</td>\n",
       "      <td>Disco Elysium: The Final Cut is a groundbreaki...</td>\n",
       "      <td>[\"a captivating journey from start to finish. ...</td>\n",
       "      <td>6K</td>\n",
       "      <td>1.2K</td>\n",
       "      <td>5K</td>\n",
       "      <td>2.7K</td>\n",
       "    </tr>\n",
       "  </tbody>\n",
       "</table>\n",
       "</div>"
      ],
      "text/plain": [
       "                                  Title     Release Date  \\\n",
       "1252  Elden Ring: Shadow of the Erdtree  releases on TBD   \n",
       "28         Disco Elysium: The Final Cut     May 01, 2020   \n",
       "1035        Bloodborne: The Old Hunters     Nov 24, 2015   \n",
       "539        Umineko: When They Cry Chiru     Sep 15, 2009   \n",
       "369                         Outer Wilds     May 28, 2019   \n",
       "354        Disco Elysium: The Final Cut     May 01, 2020   \n",
       "43                          Outer Wilds     May 28, 2019   \n",
       "717       Hitman World of Assassination     Jan 26, 2023   \n",
       "297         Bloodborne: The Old Hunters     Nov 24, 2015   \n",
       "804        Disco Elysium: The Final Cut     May 01, 2020   \n",
       "\n",
       "                                                 Team  Rating Times Listed  \\\n",
       "1252   ['FromSoftware', 'Bandai Namco Entertainment']     4.8           18   \n",
       "28                                          ['ZA/UM']     4.6         1.1K   \n",
       "1035  ['FromSoftware', 'Sony Computer Entertainment']     4.6          266   \n",
       "539                                ['07th Expansion']     4.6          324   \n",
       "369       ['Mobius Digital', 'Annapurna Interactive']     4.6         1.8K   \n",
       "354                                         ['ZA/UM']     4.6         1.1K   \n",
       "43        ['Mobius Digital', 'Annapurna Interactive']     4.6         1.8K   \n",
       "717         ['Inlusio Interactive', 'IO Interactive']     4.6           38   \n",
       "297   ['FromSoftware', 'Sony Computer Entertainment']     4.6          266   \n",
       "804                                         ['ZA/UM']     4.6         1.1K   \n",
       "\n",
       "     Number of Reviews                                         Genres  \\\n",
       "1252                18                           ['Adventure', 'RPG']   \n",
       "28                1.1K                  ['Adventure', 'Indie', 'RPG']   \n",
       "1035               266                           ['Adventure', 'RPG']   \n",
       "539                324                  ['Adventure', 'Visual Novel']   \n",
       "369               1.8K  ['Adventure', 'Indie', 'Puzzle', 'Simulator']   \n",
       "354               1.1K                  ['Adventure', 'Indie', 'RPG']   \n",
       "43                1.8K  ['Adventure', 'Indie', 'Puzzle', 'Simulator']   \n",
       "717                 38           ['Adventure', 'Shooter', 'Tactical']   \n",
       "297                266                           ['Adventure', 'RPG']   \n",
       "804               1.1K                  ['Adventure', 'Indie', 'RPG']   \n",
       "\n",
       "                                                Summary  \\\n",
       "1252  An expansion to Elden Ring setting players on ...   \n",
       "28    Disco Elysium: The Final Cut is a groundbreaki...   \n",
       "1035  The Old Hunters is the first Expansion for Blo...   \n",
       "539   Umineko no Naku Koro ni Chiru is the second ha...   \n",
       "369   Outer Wilds is a critically-acclaimed and awar...   \n",
       "354   Disco Elysium: The Final Cut is a groundbreaki...   \n",
       "43    Outer Wilds is a critically-acclaimed and awar...   \n",
       "717   Become Agent 47 in the ultimate spy-thriller a...   \n",
       "297   The Old Hunters is the first Expansion for Blo...   \n",
       "804   Disco Elysium: The Final Cut is a groundbreaki...   \n",
       "\n",
       "                                                Reviews Plays Playing  \\\n",
       "1252  ['I really loved that they integrated Family G...     1       0   \n",
       "28    [\"a captivating journey from start to finish. ...    6K    1.2K   \n",
       "1035  ['HAHA FINALMENTE MATEI O LAWRENCE E O ÓRFÃO D...  4.4K      68   \n",
       "539   ['cried like a little bitch ngl', \"God I reall...  1.7K     108   \n",
       "369   ['Replayed with my girlfriend, still the best ...  7.7K     661   \n",
       "354   [\"a captivating journey from start to finish. ...    6K    1.2K   \n",
       "43    ['Replayed with my girlfriend, still the best ...  7.7K     661   \n",
       "717   ['Aunque ya había jugado a los tres Hitman, va...   167      47   \n",
       "297   ['HAHA FINALMENTE MATEI O LAWRENCE E O ÓRFÃO D...  4.4K      68   \n",
       "804   [\"a captivating journey from start to finish. ...    6K    1.2K   \n",
       "\n",
       "     Backlogs Wishlist  \n",
       "1252       39      146  \n",
       "28         5K     2.7K  \n",
       "1035      930      616  \n",
       "539       582      493  \n",
       "369      4.8K     3.1K  \n",
       "354        5K     2.7K  \n",
       "43       4.8K     3.1K  \n",
       "717        54       54  \n",
       "297       930      616  \n",
       "804        5K     2.7K  "
      ]
     },
     "execution_count": 12,
     "metadata": {},
     "output_type": "execute_result"
    }
   ],
   "source": [
    "# Look at highest rated games to explore what makes a game highly rated\n",
    "# Adventure seems to be a genre that is within all of the top 10 highest rated games\n",
    "\n",
    "data.sort_values(by='Rating', ascending = False)[0:10]"
   ]
  },
  {
   "cell_type": "code",
   "execution_count": 9,
   "id": "68a66a41",
   "metadata": {},
   "outputs": [
    {
     "data": {
      "application/vnd.plotly.v1+json": {
       "config": {
        "plotlyServerURL": "https://plotly.com"
       },
       "data": [
        {
         "marker": {
          "color": [
           "skyblue",
           "lightgray"
          ]
         },
         "text": [
          "77.5%",
          "22.5%"
         ],
         "textfont": {
          "color": "black"
         },
         "textposition": "outside",
         "texttemplate": "%{text}",
         "type": "bar",
         "x": [
          "With Adventure Genre",
          "Without Adventure Genre"
         ],
         "y": [
          77.4617067833698,
          22.538293216630194
         ]
        }
       ],
       "layout": {
        "barmode": "stack",
        "font": {
         "color": "white"
        },
        "paper_bgcolor": "rgb(17, 17, 17)",
        "plot_bgcolor": "rgb(17, 17, 17)",
        "template": {
         "data": {
          "bar": [
           {
            "error_x": {
             "color": "#2a3f5f"
            },
            "error_y": {
             "color": "#2a3f5f"
            },
            "marker": {
             "line": {
              "color": "#E5ECF6",
              "width": 0.5
             },
             "pattern": {
              "fillmode": "overlay",
              "size": 10,
              "solidity": 0.2
             }
            },
            "type": "bar"
           }
          ],
          "barpolar": [
           {
            "marker": {
             "line": {
              "color": "#E5ECF6",
              "width": 0.5
             },
             "pattern": {
              "fillmode": "overlay",
              "size": 10,
              "solidity": 0.2
             }
            },
            "type": "barpolar"
           }
          ],
          "carpet": [
           {
            "aaxis": {
             "endlinecolor": "#2a3f5f",
             "gridcolor": "white",
             "linecolor": "white",
             "minorgridcolor": "white",
             "startlinecolor": "#2a3f5f"
            },
            "baxis": {
             "endlinecolor": "#2a3f5f",
             "gridcolor": "white",
             "linecolor": "white",
             "minorgridcolor": "white",
             "startlinecolor": "#2a3f5f"
            },
            "type": "carpet"
           }
          ],
          "choropleth": [
           {
            "colorbar": {
             "outlinewidth": 0,
             "ticks": ""
            },
            "type": "choropleth"
           }
          ],
          "contour": [
           {
            "colorbar": {
             "outlinewidth": 0,
             "ticks": ""
            },
            "colorscale": [
             [
              0,
              "#0d0887"
             ],
             [
              0.1111111111111111,
              "#46039f"
             ],
             [
              0.2222222222222222,
              "#7201a8"
             ],
             [
              0.3333333333333333,
              "#9c179e"
             ],
             [
              0.4444444444444444,
              "#bd3786"
             ],
             [
              0.5555555555555556,
              "#d8576b"
             ],
             [
              0.6666666666666666,
              "#ed7953"
             ],
             [
              0.7777777777777778,
              "#fb9f3a"
             ],
             [
              0.8888888888888888,
              "#fdca26"
             ],
             [
              1,
              "#f0f921"
             ]
            ],
            "type": "contour"
           }
          ],
          "contourcarpet": [
           {
            "colorbar": {
             "outlinewidth": 0,
             "ticks": ""
            },
            "type": "contourcarpet"
           }
          ],
          "heatmap": [
           {
            "colorbar": {
             "outlinewidth": 0,
             "ticks": ""
            },
            "colorscale": [
             [
              0,
              "#0d0887"
             ],
             [
              0.1111111111111111,
              "#46039f"
             ],
             [
              0.2222222222222222,
              "#7201a8"
             ],
             [
              0.3333333333333333,
              "#9c179e"
             ],
             [
              0.4444444444444444,
              "#bd3786"
             ],
             [
              0.5555555555555556,
              "#d8576b"
             ],
             [
              0.6666666666666666,
              "#ed7953"
             ],
             [
              0.7777777777777778,
              "#fb9f3a"
             ],
             [
              0.8888888888888888,
              "#fdca26"
             ],
             [
              1,
              "#f0f921"
             ]
            ],
            "type": "heatmap"
           }
          ],
          "heatmapgl": [
           {
            "colorbar": {
             "outlinewidth": 0,
             "ticks": ""
            },
            "colorscale": [
             [
              0,
              "#0d0887"
             ],
             [
              0.1111111111111111,
              "#46039f"
             ],
             [
              0.2222222222222222,
              "#7201a8"
             ],
             [
              0.3333333333333333,
              "#9c179e"
             ],
             [
              0.4444444444444444,
              "#bd3786"
             ],
             [
              0.5555555555555556,
              "#d8576b"
             ],
             [
              0.6666666666666666,
              "#ed7953"
             ],
             [
              0.7777777777777778,
              "#fb9f3a"
             ],
             [
              0.8888888888888888,
              "#fdca26"
             ],
             [
              1,
              "#f0f921"
             ]
            ],
            "type": "heatmapgl"
           }
          ],
          "histogram": [
           {
            "marker": {
             "pattern": {
              "fillmode": "overlay",
              "size": 10,
              "solidity": 0.2
             }
            },
            "type": "histogram"
           }
          ],
          "histogram2d": [
           {
            "colorbar": {
             "outlinewidth": 0,
             "ticks": ""
            },
            "colorscale": [
             [
              0,
              "#0d0887"
             ],
             [
              0.1111111111111111,
              "#46039f"
             ],
             [
              0.2222222222222222,
              "#7201a8"
             ],
             [
              0.3333333333333333,
              "#9c179e"
             ],
             [
              0.4444444444444444,
              "#bd3786"
             ],
             [
              0.5555555555555556,
              "#d8576b"
             ],
             [
              0.6666666666666666,
              "#ed7953"
             ],
             [
              0.7777777777777778,
              "#fb9f3a"
             ],
             [
              0.8888888888888888,
              "#fdca26"
             ],
             [
              1,
              "#f0f921"
             ]
            ],
            "type": "histogram2d"
           }
          ],
          "histogram2dcontour": [
           {
            "colorbar": {
             "outlinewidth": 0,
             "ticks": ""
            },
            "colorscale": [
             [
              0,
              "#0d0887"
             ],
             [
              0.1111111111111111,
              "#46039f"
             ],
             [
              0.2222222222222222,
              "#7201a8"
             ],
             [
              0.3333333333333333,
              "#9c179e"
             ],
             [
              0.4444444444444444,
              "#bd3786"
             ],
             [
              0.5555555555555556,
              "#d8576b"
             ],
             [
              0.6666666666666666,
              "#ed7953"
             ],
             [
              0.7777777777777778,
              "#fb9f3a"
             ],
             [
              0.8888888888888888,
              "#fdca26"
             ],
             [
              1,
              "#f0f921"
             ]
            ],
            "type": "histogram2dcontour"
           }
          ],
          "mesh3d": [
           {
            "colorbar": {
             "outlinewidth": 0,
             "ticks": ""
            },
            "type": "mesh3d"
           }
          ],
          "parcoords": [
           {
            "line": {
             "colorbar": {
              "outlinewidth": 0,
              "ticks": ""
             }
            },
            "type": "parcoords"
           }
          ],
          "pie": [
           {
            "automargin": true,
            "type": "pie"
           }
          ],
          "scatter": [
           {
            "marker": {
             "colorbar": {
              "outlinewidth": 0,
              "ticks": ""
             }
            },
            "type": "scatter"
           }
          ],
          "scatter3d": [
           {
            "line": {
             "colorbar": {
              "outlinewidth": 0,
              "ticks": ""
             }
            },
            "marker": {
             "colorbar": {
              "outlinewidth": 0,
              "ticks": ""
             }
            },
            "type": "scatter3d"
           }
          ],
          "scattercarpet": [
           {
            "marker": {
             "colorbar": {
              "outlinewidth": 0,
              "ticks": ""
             }
            },
            "type": "scattercarpet"
           }
          ],
          "scattergeo": [
           {
            "marker": {
             "colorbar": {
              "outlinewidth": 0,
              "ticks": ""
             }
            },
            "type": "scattergeo"
           }
          ],
          "scattergl": [
           {
            "marker": {
             "colorbar": {
              "outlinewidth": 0,
              "ticks": ""
             }
            },
            "type": "scattergl"
           }
          ],
          "scattermapbox": [
           {
            "marker": {
             "colorbar": {
              "outlinewidth": 0,
              "ticks": ""
             }
            },
            "type": "scattermapbox"
           }
          ],
          "scatterpolar": [
           {
            "marker": {
             "colorbar": {
              "outlinewidth": 0,
              "ticks": ""
             }
            },
            "type": "scatterpolar"
           }
          ],
          "scatterpolargl": [
           {
            "marker": {
             "colorbar": {
              "outlinewidth": 0,
              "ticks": ""
             }
            },
            "type": "scatterpolargl"
           }
          ],
          "scatterternary": [
           {
            "marker": {
             "colorbar": {
              "outlinewidth": 0,
              "ticks": ""
             }
            },
            "type": "scatterternary"
           }
          ],
          "surface": [
           {
            "colorbar": {
             "outlinewidth": 0,
             "ticks": ""
            },
            "colorscale": [
             [
              0,
              "#0d0887"
             ],
             [
              0.1111111111111111,
              "#46039f"
             ],
             [
              0.2222222222222222,
              "#7201a8"
             ],
             [
              0.3333333333333333,
              "#9c179e"
             ],
             [
              0.4444444444444444,
              "#bd3786"
             ],
             [
              0.5555555555555556,
              "#d8576b"
             ],
             [
              0.6666666666666666,
              "#ed7953"
             ],
             [
              0.7777777777777778,
              "#fb9f3a"
             ],
             [
              0.8888888888888888,
              "#fdca26"
             ],
             [
              1,
              "#f0f921"
             ]
            ],
            "type": "surface"
           }
          ],
          "table": [
           {
            "cells": {
             "fill": {
              "color": "#EBF0F8"
             },
             "line": {
              "color": "white"
             }
            },
            "header": {
             "fill": {
              "color": "#C8D4E3"
             },
             "line": {
              "color": "white"
             }
            },
            "type": "table"
           }
          ]
         },
         "layout": {
          "annotationdefaults": {
           "arrowcolor": "#2a3f5f",
           "arrowhead": 0,
           "arrowwidth": 1
          },
          "autotypenumbers": "strict",
          "coloraxis": {
           "colorbar": {
            "outlinewidth": 0,
            "ticks": ""
           }
          },
          "colorscale": {
           "diverging": [
            [
             0,
             "#8e0152"
            ],
            [
             0.1,
             "#c51b7d"
            ],
            [
             0.2,
             "#de77ae"
            ],
            [
             0.3,
             "#f1b6da"
            ],
            [
             0.4,
             "#fde0ef"
            ],
            [
             0.5,
             "#f7f7f7"
            ],
            [
             0.6,
             "#e6f5d0"
            ],
            [
             0.7,
             "#b8e186"
            ],
            [
             0.8,
             "#7fbc41"
            ],
            [
             0.9,
             "#4d9221"
            ],
            [
             1,
             "#276419"
            ]
           ],
           "sequential": [
            [
             0,
             "#0d0887"
            ],
            [
             0.1111111111111111,
             "#46039f"
            ],
            [
             0.2222222222222222,
             "#7201a8"
            ],
            [
             0.3333333333333333,
             "#9c179e"
            ],
            [
             0.4444444444444444,
             "#bd3786"
            ],
            [
             0.5555555555555556,
             "#d8576b"
            ],
            [
             0.6666666666666666,
             "#ed7953"
            ],
            [
             0.7777777777777778,
             "#fb9f3a"
            ],
            [
             0.8888888888888888,
             "#fdca26"
            ],
            [
             1,
             "#f0f921"
            ]
           ],
           "sequentialminus": [
            [
             0,
             "#0d0887"
            ],
            [
             0.1111111111111111,
             "#46039f"
            ],
            [
             0.2222222222222222,
             "#7201a8"
            ],
            [
             0.3333333333333333,
             "#9c179e"
            ],
            [
             0.4444444444444444,
             "#bd3786"
            ],
            [
             0.5555555555555556,
             "#d8576b"
            ],
            [
             0.6666666666666666,
             "#ed7953"
            ],
            [
             0.7777777777777778,
             "#fb9f3a"
            ],
            [
             0.8888888888888888,
             "#fdca26"
            ],
            [
             1,
             "#f0f921"
            ]
           ]
          },
          "colorway": [
           "#636efa",
           "#EF553B",
           "#00cc96",
           "#ab63fa",
           "#FFA15A",
           "#19d3f3",
           "#FF6692",
           "#B6E880",
           "#FF97FF",
           "#FECB52"
          ],
          "font": {
           "color": "#2a3f5f"
          },
          "geo": {
           "bgcolor": "white",
           "lakecolor": "white",
           "landcolor": "#E5ECF6",
           "showlakes": true,
           "showland": true,
           "subunitcolor": "white"
          },
          "hoverlabel": {
           "align": "left"
          },
          "hovermode": "closest",
          "mapbox": {
           "style": "light"
          },
          "paper_bgcolor": "white",
          "plot_bgcolor": "#E5ECF6",
          "polar": {
           "angularaxis": {
            "gridcolor": "white",
            "linecolor": "white",
            "ticks": ""
           },
           "bgcolor": "#E5ECF6",
           "radialaxis": {
            "gridcolor": "white",
            "linecolor": "white",
            "ticks": ""
           }
          },
          "scene": {
           "xaxis": {
            "backgroundcolor": "#E5ECF6",
            "gridcolor": "white",
            "gridwidth": 2,
            "linecolor": "white",
            "showbackground": true,
            "ticks": "",
            "zerolinecolor": "white"
           },
           "yaxis": {
            "backgroundcolor": "#E5ECF6",
            "gridcolor": "white",
            "gridwidth": 2,
            "linecolor": "white",
            "showbackground": true,
            "ticks": "",
            "zerolinecolor": "white"
           },
           "zaxis": {
            "backgroundcolor": "#E5ECF6",
            "gridcolor": "white",
            "gridwidth": 2,
            "linecolor": "white",
            "showbackground": true,
            "ticks": "",
            "zerolinecolor": "white"
           }
          },
          "shapedefaults": {
           "line": {
            "color": "#2a3f5f"
           }
          },
          "ternary": {
           "aaxis": {
            "gridcolor": "white",
            "linecolor": "white",
            "ticks": ""
           },
           "baxis": {
            "gridcolor": "white",
            "linecolor": "white",
            "ticks": ""
           },
           "bgcolor": "#E5ECF6",
           "caxis": {
            "gridcolor": "white",
            "linecolor": "white",
            "ticks": ""
           }
          },
          "title": {
           "x": 0.05
          },
          "xaxis": {
           "automargin": true,
           "gridcolor": "white",
           "linecolor": "white",
           "ticks": "",
           "title": {
            "standoff": 15
           },
           "zerolinecolor": "white",
           "zerolinewidth": 2
          },
          "yaxis": {
           "automargin": true,
           "gridcolor": "white",
           "linecolor": "white",
           "ticks": "",
           "title": {
            "standoff": 15
           },
           "zerolinecolor": "white",
           "zerolinewidth": 2
          }
         }
        },
        "title": {
         "font": {
          "color": "white"
         },
         "text": "Popular Video Games Rated Above 4.0"
        },
        "xaxis": {
         "tickfont": {
          "color": "white"
         },
         "title": {
          "text": "Games"
         }
        },
        "yaxis": {
         "tickfont": {
          "color": "white"
         },
         "title": {
          "text": "Percentage"
         }
        }
       }
      },
      "text/html": [
       "<div>                            <div id=\"c35ccd47-e661-4b34-8d95-acd9ac81fc74\" class=\"plotly-graph-div\" style=\"height:525px; width:100%;\"></div>            <script type=\"text/javascript\">                require([\"plotly\"], function(Plotly) {                    window.PLOTLYENV=window.PLOTLYENV || {};                                    if (document.getElementById(\"c35ccd47-e661-4b34-8d95-acd9ac81fc74\")) {                    Plotly.newPlot(                        \"c35ccd47-e661-4b34-8d95-acd9ac81fc74\",                        [{\"marker\":{\"color\":[\"skyblue\",\"lightgray\"]},\"text\":[\"77.5%\",\"22.5%\"],\"textposition\":\"outside\",\"x\":[\"With Adventure Genre\",\"Without Adventure Genre\"],\"y\":[77.4617067833698,22.538293216630194],\"type\":\"bar\",\"textfont\":{\"color\":\"black\"},\"texttemplate\":\"%{text}\"}],                        {\"template\":{\"data\":{\"bar\":[{\"error_x\":{\"color\":\"#2a3f5f\"},\"error_y\":{\"color\":\"#2a3f5f\"},\"marker\":{\"line\":{\"color\":\"#E5ECF6\",\"width\":0.5},\"pattern\":{\"fillmode\":\"overlay\",\"size\":10,\"solidity\":0.2}},\"type\":\"bar\"}],\"barpolar\":[{\"marker\":{\"line\":{\"color\":\"#E5ECF6\",\"width\":0.5},\"pattern\":{\"fillmode\":\"overlay\",\"size\":10,\"solidity\":0.2}},\"type\":\"barpolar\"}],\"carpet\":[{\"aaxis\":{\"endlinecolor\":\"#2a3f5f\",\"gridcolor\":\"white\",\"linecolor\":\"white\",\"minorgridcolor\":\"white\",\"startlinecolor\":\"#2a3f5f\"},\"baxis\":{\"endlinecolor\":\"#2a3f5f\",\"gridcolor\":\"white\",\"linecolor\":\"white\",\"minorgridcolor\":\"white\",\"startlinecolor\":\"#2a3f5f\"},\"type\":\"carpet\"}],\"choropleth\":[{\"colorbar\":{\"outlinewidth\":0,\"ticks\":\"\"},\"type\":\"choropleth\"}],\"contour\":[{\"colorbar\":{\"outlinewidth\":0,\"ticks\":\"\"},\"colorscale\":[[0.0,\"#0d0887\"],[0.1111111111111111,\"#46039f\"],[0.2222222222222222,\"#7201a8\"],[0.3333333333333333,\"#9c179e\"],[0.4444444444444444,\"#bd3786\"],[0.5555555555555556,\"#d8576b\"],[0.6666666666666666,\"#ed7953\"],[0.7777777777777778,\"#fb9f3a\"],[0.8888888888888888,\"#fdca26\"],[1.0,\"#f0f921\"]],\"type\":\"contour\"}],\"contourcarpet\":[{\"colorbar\":{\"outlinewidth\":0,\"ticks\":\"\"},\"type\":\"contourcarpet\"}],\"heatmap\":[{\"colorbar\":{\"outlinewidth\":0,\"ticks\":\"\"},\"colorscale\":[[0.0,\"#0d0887\"],[0.1111111111111111,\"#46039f\"],[0.2222222222222222,\"#7201a8\"],[0.3333333333333333,\"#9c179e\"],[0.4444444444444444,\"#bd3786\"],[0.5555555555555556,\"#d8576b\"],[0.6666666666666666,\"#ed7953\"],[0.7777777777777778,\"#fb9f3a\"],[0.8888888888888888,\"#fdca26\"],[1.0,\"#f0f921\"]],\"type\":\"heatmap\"}],\"heatmapgl\":[{\"colorbar\":{\"outlinewidth\":0,\"ticks\":\"\"},\"colorscale\":[[0.0,\"#0d0887\"],[0.1111111111111111,\"#46039f\"],[0.2222222222222222,\"#7201a8\"],[0.3333333333333333,\"#9c179e\"],[0.4444444444444444,\"#bd3786\"],[0.5555555555555556,\"#d8576b\"],[0.6666666666666666,\"#ed7953\"],[0.7777777777777778,\"#fb9f3a\"],[0.8888888888888888,\"#fdca26\"],[1.0,\"#f0f921\"]],\"type\":\"heatmapgl\"}],\"histogram\":[{\"marker\":{\"pattern\":{\"fillmode\":\"overlay\",\"size\":10,\"solidity\":0.2}},\"type\":\"histogram\"}],\"histogram2d\":[{\"colorbar\":{\"outlinewidth\":0,\"ticks\":\"\"},\"colorscale\":[[0.0,\"#0d0887\"],[0.1111111111111111,\"#46039f\"],[0.2222222222222222,\"#7201a8\"],[0.3333333333333333,\"#9c179e\"],[0.4444444444444444,\"#bd3786\"],[0.5555555555555556,\"#d8576b\"],[0.6666666666666666,\"#ed7953\"],[0.7777777777777778,\"#fb9f3a\"],[0.8888888888888888,\"#fdca26\"],[1.0,\"#f0f921\"]],\"type\":\"histogram2d\"}],\"histogram2dcontour\":[{\"colorbar\":{\"outlinewidth\":0,\"ticks\":\"\"},\"colorscale\":[[0.0,\"#0d0887\"],[0.1111111111111111,\"#46039f\"],[0.2222222222222222,\"#7201a8\"],[0.3333333333333333,\"#9c179e\"],[0.4444444444444444,\"#bd3786\"],[0.5555555555555556,\"#d8576b\"],[0.6666666666666666,\"#ed7953\"],[0.7777777777777778,\"#fb9f3a\"],[0.8888888888888888,\"#fdca26\"],[1.0,\"#f0f921\"]],\"type\":\"histogram2dcontour\"}],\"mesh3d\":[{\"colorbar\":{\"outlinewidth\":0,\"ticks\":\"\"},\"type\":\"mesh3d\"}],\"parcoords\":[{\"line\":{\"colorbar\":{\"outlinewidth\":0,\"ticks\":\"\"}},\"type\":\"parcoords\"}],\"pie\":[{\"automargin\":true,\"type\":\"pie\"}],\"scatter\":[{\"marker\":{\"colorbar\":{\"outlinewidth\":0,\"ticks\":\"\"}},\"type\":\"scatter\"}],\"scatter3d\":[{\"line\":{\"colorbar\":{\"outlinewidth\":0,\"ticks\":\"\"}},\"marker\":{\"colorbar\":{\"outlinewidth\":0,\"ticks\":\"\"}},\"type\":\"scatter3d\"}],\"scattercarpet\":[{\"marker\":{\"colorbar\":{\"outlinewidth\":0,\"ticks\":\"\"}},\"type\":\"scattercarpet\"}],\"scattergeo\":[{\"marker\":{\"colorbar\":{\"outlinewidth\":0,\"ticks\":\"\"}},\"type\":\"scattergeo\"}],\"scattergl\":[{\"marker\":{\"colorbar\":{\"outlinewidth\":0,\"ticks\":\"\"}},\"type\":\"scattergl\"}],\"scattermapbox\":[{\"marker\":{\"colorbar\":{\"outlinewidth\":0,\"ticks\":\"\"}},\"type\":\"scattermapbox\"}],\"scatterpolar\":[{\"marker\":{\"colorbar\":{\"outlinewidth\":0,\"ticks\":\"\"}},\"type\":\"scatterpolar\"}],\"scatterpolargl\":[{\"marker\":{\"colorbar\":{\"outlinewidth\":0,\"ticks\":\"\"}},\"type\":\"scatterpolargl\"}],\"scatterternary\":[{\"marker\":{\"colorbar\":{\"outlinewidth\":0,\"ticks\":\"\"}},\"type\":\"scatterternary\"}],\"surface\":[{\"colorbar\":{\"outlinewidth\":0,\"ticks\":\"\"},\"colorscale\":[[0.0,\"#0d0887\"],[0.1111111111111111,\"#46039f\"],[0.2222222222222222,\"#7201a8\"],[0.3333333333333333,\"#9c179e\"],[0.4444444444444444,\"#bd3786\"],[0.5555555555555556,\"#d8576b\"],[0.6666666666666666,\"#ed7953\"],[0.7777777777777778,\"#fb9f3a\"],[0.8888888888888888,\"#fdca26\"],[1.0,\"#f0f921\"]],\"type\":\"surface\"}],\"table\":[{\"cells\":{\"fill\":{\"color\":\"#EBF0F8\"},\"line\":{\"color\":\"white\"}},\"header\":{\"fill\":{\"color\":\"#C8D4E3\"},\"line\":{\"color\":\"white\"}},\"type\":\"table\"}]},\"layout\":{\"annotationdefaults\":{\"arrowcolor\":\"#2a3f5f\",\"arrowhead\":0,\"arrowwidth\":1},\"autotypenumbers\":\"strict\",\"coloraxis\":{\"colorbar\":{\"outlinewidth\":0,\"ticks\":\"\"}},\"colorscale\":{\"diverging\":[[0,\"#8e0152\"],[0.1,\"#c51b7d\"],[0.2,\"#de77ae\"],[0.3,\"#f1b6da\"],[0.4,\"#fde0ef\"],[0.5,\"#f7f7f7\"],[0.6,\"#e6f5d0\"],[0.7,\"#b8e186\"],[0.8,\"#7fbc41\"],[0.9,\"#4d9221\"],[1,\"#276419\"]],\"sequential\":[[0.0,\"#0d0887\"],[0.1111111111111111,\"#46039f\"],[0.2222222222222222,\"#7201a8\"],[0.3333333333333333,\"#9c179e\"],[0.4444444444444444,\"#bd3786\"],[0.5555555555555556,\"#d8576b\"],[0.6666666666666666,\"#ed7953\"],[0.7777777777777778,\"#fb9f3a\"],[0.8888888888888888,\"#fdca26\"],[1.0,\"#f0f921\"]],\"sequentialminus\":[[0.0,\"#0d0887\"],[0.1111111111111111,\"#46039f\"],[0.2222222222222222,\"#7201a8\"],[0.3333333333333333,\"#9c179e\"],[0.4444444444444444,\"#bd3786\"],[0.5555555555555556,\"#d8576b\"],[0.6666666666666666,\"#ed7953\"],[0.7777777777777778,\"#fb9f3a\"],[0.8888888888888888,\"#fdca26\"],[1.0,\"#f0f921\"]]},\"colorway\":[\"#636efa\",\"#EF553B\",\"#00cc96\",\"#ab63fa\",\"#FFA15A\",\"#19d3f3\",\"#FF6692\",\"#B6E880\",\"#FF97FF\",\"#FECB52\"],\"font\":{\"color\":\"#2a3f5f\"},\"geo\":{\"bgcolor\":\"white\",\"lakecolor\":\"white\",\"landcolor\":\"#E5ECF6\",\"showlakes\":true,\"showland\":true,\"subunitcolor\":\"white\"},\"hoverlabel\":{\"align\":\"left\"},\"hovermode\":\"closest\",\"mapbox\":{\"style\":\"light\"},\"paper_bgcolor\":\"white\",\"plot_bgcolor\":\"#E5ECF6\",\"polar\":{\"angularaxis\":{\"gridcolor\":\"white\",\"linecolor\":\"white\",\"ticks\":\"\"},\"bgcolor\":\"#E5ECF6\",\"radialaxis\":{\"gridcolor\":\"white\",\"linecolor\":\"white\",\"ticks\":\"\"}},\"scene\":{\"xaxis\":{\"backgroundcolor\":\"#E5ECF6\",\"gridcolor\":\"white\",\"gridwidth\":2,\"linecolor\":\"white\",\"showbackground\":true,\"ticks\":\"\",\"zerolinecolor\":\"white\"},\"yaxis\":{\"backgroundcolor\":\"#E5ECF6\",\"gridcolor\":\"white\",\"gridwidth\":2,\"linecolor\":\"white\",\"showbackground\":true,\"ticks\":\"\",\"zerolinecolor\":\"white\"},\"zaxis\":{\"backgroundcolor\":\"#E5ECF6\",\"gridcolor\":\"white\",\"gridwidth\":2,\"linecolor\":\"white\",\"showbackground\":true,\"ticks\":\"\",\"zerolinecolor\":\"white\"}},\"shapedefaults\":{\"line\":{\"color\":\"#2a3f5f\"}},\"ternary\":{\"aaxis\":{\"gridcolor\":\"white\",\"linecolor\":\"white\",\"ticks\":\"\"},\"baxis\":{\"gridcolor\":\"white\",\"linecolor\":\"white\",\"ticks\":\"\"},\"bgcolor\":\"#E5ECF6\",\"caxis\":{\"gridcolor\":\"white\",\"linecolor\":\"white\",\"ticks\":\"\"}},\"title\":{\"x\":0.05},\"xaxis\":{\"automargin\":true,\"gridcolor\":\"white\",\"linecolor\":\"white\",\"ticks\":\"\",\"title\":{\"standoff\":15},\"zerolinecolor\":\"white\",\"zerolinewidth\":2},\"yaxis\":{\"automargin\":true,\"gridcolor\":\"white\",\"linecolor\":\"white\",\"ticks\":\"\",\"title\":{\"standoff\":15},\"zerolinecolor\":\"white\",\"zerolinewidth\":2}}},\"font\":{\"color\":\"white\"},\"plot_bgcolor\":\"rgb(17, 17, 17)\",\"paper_bgcolor\":\"rgb(17, 17, 17)\",\"xaxis\":{\"title\":{\"text\":\"Games\"},\"tickfont\":{\"color\":\"white\"}},\"yaxis\":{\"title\":{\"text\":\"Percentage\"},\"tickfont\":{\"color\":\"white\"}},\"title\":{\"text\":\"Popular Video Games Rated Above 4.0\",\"font\":{\"color\":\"white\"}},\"barmode\":\"stack\"},                        {\"responsive\": true}                    ).then(function(){\n",
       "                            \n",
       "var gd = document.getElementById('c35ccd47-e661-4b34-8d95-acd9ac81fc74');\n",
       "var x = new MutationObserver(function (mutations, observer) {{\n",
       "        var display = window.getComputedStyle(gd).display;\n",
       "        if (!display || display === 'none') {{\n",
       "            console.log([gd, 'removed!']);\n",
       "            Plotly.purge(gd);\n",
       "            observer.disconnect();\n",
       "        }}\n",
       "}});\n",
       "\n",
       "// Listen for the removal of the full notebook cells\n",
       "var notebookContainer = gd.closest('#notebook-container');\n",
       "if (notebookContainer) {{\n",
       "    x.observe(notebookContainer, {childList: true});\n",
       "}}\n",
       "\n",
       "// Listen for the clearing of the current output cell\n",
       "var outputEl = gd.closest('.output');\n",
       "if (outputEl) {{\n",
       "    x.observe(outputEl, {childList: true});\n",
       "}}\n",
       "\n",
       "                        })                };                });            </script>        </div>"
      ]
     },
     "metadata": {},
     "output_type": "display_data"
    }
   ],
   "source": [
    "# This visualization shows out of the games rated above a 4.0, what percentage of games have \n",
    "# Adventure as one of the genres.\n",
    "\n",
    "filtered_df = data[(data[\"Rating\"] > 4.0) & (data[\"Genres\"].str.contains(\"Adventure\"))]\n",
    "percentage = (len(filtered_df) / len(data[data[\"Rating\"] > 4.0])) * 100\n",
    "\n",
    "# Create a Plotly figure with a dark background\n",
    "fig = go.Figure()\n",
    "fig.update_layout(\n",
    "    plot_bgcolor='rgb(17, 17, 17)',\n",
    "    paper_bgcolor='rgb(17, 17, 17)',\n",
    "    font_color='white'\n",
    ")\n",
    "\n",
    "# Add the bar plot\n",
    "fig.add_trace(go.Bar(\n",
    "    x=[\"With Adventure Genre\", \"Without Adventure Genre\"],\n",
    "    y=[percentage, 100 - percentage],\n",
    "    marker=dict(color=[\"skyblue\", \"lightgray\"]),\n",
    "    text=[f\"{percentage:.1f}%\", f\"{100 - percentage:.1f}%\"],\n",
    "    textposition=\"outside\"\n",
    "))\n",
    "\n",
    "# Set axis labels and title\n",
    "fig.update_xaxes(title_text=\"Games\", tickfont=dict(color=\"white\"))\n",
    "fig.update_yaxes(title_text=\"Percentage\", tickfont=dict(color=\"white\"))\n",
    "fig.update_layout(title=\"Popular Video Games Rated Above 4.0\", title_font_color=\"white\")\n",
    "\n",
    "# Adjust the layout\n",
    "fig.update_layout(barmode='stack')\n",
    "fig.update_traces(texttemplate='%{text}', textfont=dict(color='black'))\n",
    "\n",
    "# Display the plot\n",
    "fig.show()"
   ]
  },
  {
   "cell_type": "code",
   "execution_count": 14,
   "id": "35e61644",
   "metadata": {},
   "outputs": [
    {
     "name": "stderr",
     "output_type": "stream",
     "text": [
      "/var/folders/bn/cbv7ftpx4cx24wl0rz52v1z00000gn/T/ipykernel_4169/3169477536.py:14: FutureWarning: The default value of regex will change from True to False in a future version.\n",
      "  data[\"Genres\"] = data[\"Genres\"].str.replace(r\"\\[|\\]\", \"\").str.strip()\n"
     ]
    },
    {
     "data": {
      "text/plain": [
       "'RPG'                    0.154056\n",
       "'Adventure'              0.152945\n",
       "'Visual Novel'           0.118716\n",
       "'Turn Based Strategy'    0.083669\n",
       "'Puzzle'                 0.058194\n",
       "'Brawler'                0.034218\n",
       "'Tactical'               0.012788\n",
       "'Real Time Strategy'    -0.009134\n",
       "'Pinball'               -0.010644\n",
       "'Indie'                 -0.014648\n",
       "'Card & Board Game'     -0.019625\n",
       "'Platform'              -0.021084\n",
       "'Point-and-Click'       -0.023901\n",
       "'Simulator'             -0.030900\n",
       "'Music'                 -0.034084\n",
       "'Quiz/Trivia'           -0.043169\n",
       "'Sport'                 -0.050717\n",
       "'Shooter'               -0.051751\n",
       "'Racing'                -0.055520\n",
       "'Arcade'                -0.060311\n",
       "'Strategy'              -0.087058\n",
       "'MOBA'                  -0.119377\n",
       "'Fighting'              -0.123594\n",
       "Name: Rating, dtype: float64"
      ]
     },
     "execution_count": 14,
     "metadata": {},
     "output_type": "execute_result"
    }
   ],
   "source": [
    "# We can create a coorelation matrix after converting the categorical genres into binary variables using\n",
    "# one-hot encoding. \n",
    "\n",
    "# I noticed that some variables were being counted twice due to brackets, so I used regex to work around this. \n",
    "\n",
    "# The results support the findings above, the RPG and Adventure genres seem to have the highest \n",
    "# positive coorelatons to Ratings. \n",
    "\n",
    "# I recreated the above bar graph with RPG, but the percentage was much lower,\n",
    "# this leads to me to believe that Adventure is clearly the genre that has the strongest positive impact on the\n",
    "# rating of a game.\n",
    "\n",
    "# Remove brackets and extra whitespace from genres\n",
    "data[\"Genres\"] = data[\"Genres\"].str.replace(r\"\\[|\\]\", \"\").str.strip()\n",
    "\n",
    "# Convert genres into binary columns using one-hot encoding\n",
    "genres = data[\"Genres\"].str.get_dummies(sep=\", \")\n",
    "\n",
    "# Concatenate the one-hot encoded genres with the original DataFrame\n",
    "df_encoded = pd.concat([data, genres], axis=1)\n",
    "\n",
    "# Calculate the correlation matrix\n",
    "correlation_matrix = df_encoded.corr()\n",
    "\n",
    "# Extract the correlation values for the \"Rating\" column\n",
    "rating_correlation = correlation_matrix[\"Rating\"]\n",
    "\n",
    "# Sort the correlation values in descending order\n",
    "sorted_correlation = rating_correlation.drop(\"Rating\").sort_values(ascending=False)\n",
    "\n",
    "# Print the top correlations between genres and ratings\n",
    "sorted_correlation"
   ]
  },
  {
   "cell_type": "code",
   "execution_count": 15,
   "id": "d27885ca",
   "metadata": {},
   "outputs": [
    {
     "name": "stderr",
     "output_type": "stream",
     "text": [
      "/var/folders/bn/cbv7ftpx4cx24wl0rz52v1z00000gn/T/ipykernel_4169/641070897.py:6: FutureWarning: The default value of regex will change from True to False in a future version.\n",
      "  data[\"Team\"] = data[\"Team\"].str.replace(r\"\\[|\\]\", \"\").str.strip()\n"
     ]
    },
    {
     "data": {
      "text/plain": [
       "'FromSoftware'                      0.115589\n",
       "'ZA/UM'                             0.104855\n",
       "'Sony Interactive Entertainment'    0.093589\n",
       "Name: Rating, dtype: float64"
      ]
     },
     "execution_count": 15,
     "metadata": {},
     "output_type": "execute_result"
    }
   ],
   "source": [
    "# I also wanted to create a coorelation matrix that showed the top teams coorelated with the highest ratings.\n",
    "# to see if certian teams made up a large percentage of the highest rated games.\n",
    "# I used the same process as above.\n",
    "\n",
    "# Remove brackets and extra whitespace from genres\n",
    "data[\"Team\"] = data[\"Team\"].str.replace(r\"\\[|\\]\", \"\").str.strip()\n",
    "\n",
    "# Convert genres into binary columns using one-hot encoding\n",
    "teams = data[\"Team\"].str.get_dummies(sep=\", \")\n",
    "\n",
    "# Concatenate the one-hot encoded genres with the original DataFrame\n",
    "df_encoded = pd.concat([data, teams], axis=1)\n",
    "\n",
    "# Calculate the correlation matrix\n",
    "correlation_matrix = df_encoded.corr()\n",
    "\n",
    "# Extract the correlation values for the \"Rating\" column\n",
    "rating_correlation = correlation_matrix[\"Rating\"]\n",
    "\n",
    "# Sort the correlation values in descending order\n",
    "sorted_correlation = rating_correlation.drop(\"Rating\").sort_values(ascending=False)\n",
    "\n",
    "# Print the top 3 correlations between teams and ratings\n",
    "sorted_correlation[0:3]"
   ]
  },
  {
   "cell_type": "code",
   "execution_count": 16,
   "id": "df3035ec",
   "metadata": {},
   "outputs": [
    {
     "data": {
      "text/plain": [
       "9.409190371991247"
      ]
     },
     "execution_count": 16,
     "metadata": {},
     "output_type": "execute_result"
    }
   ],
   "source": [
    "# It appears that certain teams do not make up a large percentage of the highest rated games. Sony and FromSoftware \n",
    "# together only account for roughly 9.4% of all of the games rated above a 4.0.\n",
    "# Genre seems to be a better indicator of game ratings.\n",
    "\n",
    "filtered_df = data[(data[\"Rating\"] > 4.0) & ((data[\"Team\"].str.contains(\"FromSoftware\")) | (data[\"Team\"].str.contains(\"Sony Interactive Entertainment\")))]\n",
    "percentage = (len(filtered_df) / len(data[data[\"Rating\"] > 4.0])) * 100\n",
    "percentage"
   ]
  },
  {
   "cell_type": "code",
   "execution_count": 21,
   "id": "6dc4c3a6",
   "metadata": {},
   "outputs": [
    {
     "data": {
      "text/html": [
       "<div>\n",
       "<style scoped>\n",
       "    .dataframe tbody tr th:only-of-type {\n",
       "        vertical-align: middle;\n",
       "    }\n",
       "\n",
       "    .dataframe tbody tr th {\n",
       "        vertical-align: top;\n",
       "    }\n",
       "\n",
       "    .dataframe thead th {\n",
       "        text-align: right;\n",
       "    }\n",
       "</style>\n",
       "<table border=\"1\" class=\"dataframe\">\n",
       "  <thead>\n",
       "    <tr style=\"text-align: right;\">\n",
       "      <th></th>\n",
       "      <th>Title</th>\n",
       "      <th>Release Date</th>\n",
       "      <th>Team</th>\n",
       "      <th>Rating</th>\n",
       "      <th>Genres</th>\n",
       "      <th>Reviews</th>\n",
       "      <th>Sentiment_Score</th>\n",
       "    </tr>\n",
       "  </thead>\n",
       "  <tbody>\n",
       "    <tr>\n",
       "      <th>992</th>\n",
       "      <td>Super Mario World 2: Yoshi's Island</td>\n",
       "      <td>Aug 05, 1995</td>\n",
       "      <td>['Nintendo EAD', 'Nintendo']</td>\n",
       "      <td>4.1</td>\n",
       "      <td>['Platform']</td>\n",
       "      <td>['Dinossauro', \"Beautiful hand-drawn-esque spr...</td>\n",
       "      <td>0.9997</td>\n",
       "    </tr>\n",
       "    <tr>\n",
       "      <th>610</th>\n",
       "      <td>Marvel Snap</td>\n",
       "      <td>Oct 18, 2022</td>\n",
       "      <td>['Second Dinner', 'nuverse']</td>\n",
       "      <td>3.7</td>\n",
       "      <td>['Card &amp; Board Game', 'Strategy']</td>\n",
       "      <td>[\"Starts out surprisingly fun and addictive at...</td>\n",
       "      <td>0.9997</td>\n",
       "    </tr>\n",
       "    <tr>\n",
       "      <th>1473</th>\n",
       "      <td>Shantae and the Seven Sirens</td>\n",
       "      <td>Mar 27, 2020</td>\n",
       "      <td>['WayForward Technologies', 'WayForward']</td>\n",
       "      <td>3.5</td>\n",
       "      <td>['Adventure', 'Platform']</td>\n",
       "      <td>['And with this entry, I think my interest in ...</td>\n",
       "      <td>0.9994</td>\n",
       "    </tr>\n",
       "    <tr>\n",
       "      <th>1406</th>\n",
       "      <td>Shin Megami Tensei: Devil Survivor</td>\n",
       "      <td>Jan 15, 2009</td>\n",
       "      <td>['Atlus', 'Ghostlight Ltd.']</td>\n",
       "      <td>3.9</td>\n",
       "      <td>['RPG', 'Strategy', 'Tactical', 'Visual Novel']</td>\n",
       "      <td>[\"Oh fuck I forgot about this game. Played it ...</td>\n",
       "      <td>0.9993</td>\n",
       "    </tr>\n",
       "    <tr>\n",
       "      <th>674</th>\n",
       "      <td>Lunistice</td>\n",
       "      <td>Nov 10, 2022</td>\n",
       "      <td>['A Grumpy Fox', 'Deck13 Interactive']</td>\n",
       "      <td>3.6</td>\n",
       "      <td>['Adventure', 'Indie', 'Platform']</td>\n",
       "      <td>['Has some hiccups, but honestly super fun and...</td>\n",
       "      <td>0.9992</td>\n",
       "    </tr>\n",
       "    <tr>\n",
       "      <th>...</th>\n",
       "      <td>...</td>\n",
       "      <td>...</td>\n",
       "      <td>...</td>\n",
       "      <td>...</td>\n",
       "      <td>...</td>\n",
       "      <td>...</td>\n",
       "      <td>...</td>\n",
       "    </tr>\n",
       "    <tr>\n",
       "      <th>867</th>\n",
       "      <td>Dark Souls II: Scholar of the First Sin</td>\n",
       "      <td>Apr 02, 2015</td>\n",
       "      <td>['Bandai Namco Entertainment', 'FromSoftware']</td>\n",
       "      <td>3.5</td>\n",
       "      <td>['Adventure', 'RPG']</td>\n",
       "      <td>['Kinosoge', \"I hate this star-wars prequel es...</td>\n",
       "      <td>-0.9907</td>\n",
       "    </tr>\n",
       "    <tr>\n",
       "      <th>1243</th>\n",
       "      <td>Xenoblade Chronicles: Future Connected</td>\n",
       "      <td>May 29, 2020</td>\n",
       "      <td>['Nintendo', 'Monolith Soft']</td>\n",
       "      <td>3.5</td>\n",
       "      <td>['RPG']</td>\n",
       "      <td>['I forget about this game until I randomly re...</td>\n",
       "      <td>-0.9933</td>\n",
       "    </tr>\n",
       "    <tr>\n",
       "      <th>530</th>\n",
       "      <td>The Evil Within</td>\n",
       "      <td>Oct 14, 2014</td>\n",
       "      <td>['Tango Gameworks', 'Bethesda Softworks']</td>\n",
       "      <td>3.4</td>\n",
       "      <td>['Adventure', 'Shooter']</td>\n",
       "      <td>['Tries to capture the same magic that RE4 has...</td>\n",
       "      <td>-0.9941</td>\n",
       "    </tr>\n",
       "    <tr>\n",
       "      <th>1141</th>\n",
       "      <td>Resident Evil</td>\n",
       "      <td>Mar 22, 1996</td>\n",
       "      <td>['Capcom', 'Capcom Planning Room 2']</td>\n",
       "      <td>3.7</td>\n",
       "      <td>['Adventure', 'Puzzle']</td>\n",
       "      <td>[\"(Played before 2023)\\n                     \\...</td>\n",
       "      <td>-0.9945</td>\n",
       "    </tr>\n",
       "    <tr>\n",
       "      <th>1426</th>\n",
       "      <td>Mega Man X7</td>\n",
       "      <td>Jul 17, 2003</td>\n",
       "      <td>['Capcom Production Studio 3', 'Capcom']</td>\n",
       "      <td>1.4</td>\n",
       "      <td>['Adventure', 'Platform']</td>\n",
       "      <td>['Talvez um dos Mega mans mais injustiçados.\\n...</td>\n",
       "      <td>-0.9958</td>\n",
       "    </tr>\n",
       "  </tbody>\n",
       "</table>\n",
       "<p>1512 rows × 7 columns</p>\n",
       "</div>"
      ],
      "text/plain": [
       "                                        Title  Release Date  \\\n",
       "992       Super Mario World 2: Yoshi's Island  Aug 05, 1995   \n",
       "610                               Marvel Snap  Oct 18, 2022   \n",
       "1473             Shantae and the Seven Sirens  Mar 27, 2020   \n",
       "1406       Shin Megami Tensei: Devil Survivor  Jan 15, 2009   \n",
       "674                                 Lunistice  Nov 10, 2022   \n",
       "...                                       ...           ...   \n",
       "867   Dark Souls II: Scholar of the First Sin  Apr 02, 2015   \n",
       "1243   Xenoblade Chronicles: Future Connected  May 29, 2020   \n",
       "530                           The Evil Within  Oct 14, 2014   \n",
       "1141                            Resident Evil  Mar 22, 1996   \n",
       "1426                              Mega Man X7  Jul 17, 2003   \n",
       "\n",
       "                                                Team  Rating  \\\n",
       "992                     ['Nintendo EAD', 'Nintendo']     4.1   \n",
       "610                     ['Second Dinner', 'nuverse']     3.7   \n",
       "1473       ['WayForward Technologies', 'WayForward']     3.5   \n",
       "1406                    ['Atlus', 'Ghostlight Ltd.']     3.9   \n",
       "674           ['A Grumpy Fox', 'Deck13 Interactive']     3.6   \n",
       "...                                              ...     ...   \n",
       "867   ['Bandai Namco Entertainment', 'FromSoftware']     3.5   \n",
       "1243                   ['Nintendo', 'Monolith Soft']     3.5   \n",
       "530        ['Tango Gameworks', 'Bethesda Softworks']     3.4   \n",
       "1141            ['Capcom', 'Capcom Planning Room 2']     3.7   \n",
       "1426        ['Capcom Production Studio 3', 'Capcom']     1.4   \n",
       "\n",
       "                                               Genres  \\\n",
       "992                                      ['Platform']   \n",
       "610                 ['Card & Board Game', 'Strategy']   \n",
       "1473                        ['Adventure', 'Platform']   \n",
       "1406  ['RPG', 'Strategy', 'Tactical', 'Visual Novel']   \n",
       "674                ['Adventure', 'Indie', 'Platform']   \n",
       "...                                               ...   \n",
       "867                              ['Adventure', 'RPG']   \n",
       "1243                                          ['RPG']   \n",
       "530                          ['Adventure', 'Shooter']   \n",
       "1141                          ['Adventure', 'Puzzle']   \n",
       "1426                        ['Adventure', 'Platform']   \n",
       "\n",
       "                                                Reviews  Sentiment_Score  \n",
       "992   ['Dinossauro', \"Beautiful hand-drawn-esque spr...           0.9997  \n",
       "610   [\"Starts out surprisingly fun and addictive at...           0.9997  \n",
       "1473  ['And with this entry, I think my interest in ...           0.9994  \n",
       "1406  [\"Oh fuck I forgot about this game. Played it ...           0.9993  \n",
       "674   ['Has some hiccups, but honestly super fun and...           0.9992  \n",
       "...                                                 ...              ...  \n",
       "867   ['Kinosoge', \"I hate this star-wars prequel es...          -0.9907  \n",
       "1243  ['I forget about this game until I randomly re...          -0.9933  \n",
       "530   ['Tries to capture the same magic that RE4 has...          -0.9941  \n",
       "1141  [\"(Played before 2023)\\n                     \\...          -0.9945  \n",
       "1426  ['Talvez um dos Mega mans mais injustiçados.\\n...          -0.9958  \n",
       "\n",
       "[1512 rows x 7 columns]"
      ]
     },
     "execution_count": 21,
     "metadata": {},
     "output_type": "execute_result"
    }
   ],
   "source": [
    "# I want to perform a sentiment analysis on the reviews of these games using NLP techniques to determine what \n",
    "# games seem to have positive sentiments vs negative sentiments to look for overall trends in the data.\n",
    "\n",
    "sia = SentimentIntensityAnalyzer()\n",
    "\n",
    "# Create a copy of the dataset\n",
    "df = data.copy()\n",
    "\n",
    "# Create a smaller verson of the data set with relevant columns\n",
    "df = df[['Title', 'Release Date', 'Team', 'Rating', 'Genres', 'Reviews']]\n",
    "\n",
    "df['Sentiment_Score'] = df['Reviews'].apply(lambda x: sia.polarity_scores(x)['compound'])\n",
    "\n",
    "df.sort_values(by = 'Sentiment_Score', ascending = False)"
   ]
  },
  {
   "cell_type": "code",
   "execution_count": 18,
   "id": "5912ede4",
   "metadata": {},
   "outputs": [
    {
     "data": {
      "text/plain": [
       "'[\"(Played before 2023)\\\\n                     \\\\n                     This game did not age well. It is a product of its time and a lot of bad parts about it are seen as charming like the voice acting, but the voice acting is still, well, bad. Like a cheesey horror film, the story is dumb and stupid, and there is a lot of goofy moments (You were almost a Jill sandwich!). The design of the game is really good though, dealing with zombies in terms of trying to avoid them and risk getting bit, or clearing the threat with ammo and hoping you don\\'t need it later. But overall there isn\\'t anything special going on with it outside of the historical importance, so if you\\'re not a fan of the series, especially the remake, just don\\'t play it.\", \"REmake 4 prep still. gonna be cutting it really close with trying to fit all of this shit in but i\\'m determined.\", \\'Resident Evil 1 is certainly a product of its time. It controls like molasses and its tank controls don’t help much. Since I played the original version, I did not have access to the auto-aim system that’s found in the Director’s Cut and Dualshock versions which made enemy encounters a lot more difficult than they needed to be. You could argue that this does enhance the horror aspects of this game, making you feel powerless against these monsters, however, it felt less like an intentional choice and more of a fault with the gameplay. Puzzles aren’t as tricky or archaic as I thought they were going to be. Every puzzle is fairly obvious and there are plenty of clues barring a few instances but for a PS1 puzzle game, that is an accomplishment. The story is total non-sense thanks to the terrible voice-acting but despite this, I could still get invested in these characters. There’s enough intrigue where I felt interested in this game’s plot despite of its flaws that I’m actually excited to play its sequels. If you’re going to play RE1 for the PlayStation, just play the later editions as they fix many flaws found with this version.\\', \\'Um clássico do survival horror, pai do gênero, em geral é a mesma opinião minha sobre o remake, tirando o fato de ser bem mais duro, e datado, principalmente sua dublagem, mas tudo isso é um certo charme. Grande parte do valor  do jogo está no seu valor histórico, e sua importância pro gênero e pra época, apesar de não ter muitos motivos pra escolher esse sobre o remake, já que o remake de fato substitui o original, o clássico tem um peso enorme pra mim, fez parte da minha infância, e ele tem um certo encanto, em seus gráficos antigos e sua trilha sonora\\', \"Not as great as the remake because it hasn\\'t aged super great and is lacking the undeniable amazing additions, but it\\'s still aged much better than most people say. I have many things to say about it but the remake just improves on every aspect of it, so there\\'s no point in writing about it. Undoubtedly one of the most genre defining games of all time, and was far ahead of it\\'s time to the point that the hardware was really holding them back from their vision.\", \\'for some reason retroarch will just NOT LET ME CONTINUE! but idc i fuckin love zombie horror and the  voice acting is my favorite thing ever\\']'"
      ]
     },
     "execution_count": 18,
     "metadata": {},
     "output_type": "execute_result"
    }
   ],
   "source": [
    "# The review that was has the lowest sentiment score, seems to be quite accurate given the negative language\n",
    "# used to describe the game\n",
    "\n",
    "df.loc[1141]['Reviews']"
   ]
  },
  {
   "cell_type": "code",
   "execution_count": 19,
   "id": "b79f460a",
   "metadata": {},
   "outputs": [
    {
     "data": {
      "text/plain": [
       "'[\\'Dinossauro\\', \"Beautiful hand-drawn-esque sprites, the most jovial and joyful music you\\'ve ever heard in a game, and engaging levels with unique mechanics. This game is great. It can skew a bit on the easy end but that\\'s not a bad thing, plus collecting the extras and going for 100 Points is a nice challenge. This game holds a special place to me and I have deep nostalgia for it, but it\\'s also just a solidly designed platformer.\", \"Super Mario Land 2: Yoshi\\'s Island is one of the best platformers Nintendo has ever made. The game controls great in a way that even the likes of its predecessor, Super Mario World, does not. Every part of Yoshi’s moveset just feels natural. The flutter jump is great to adjust your jumps, the egg shooting is super responsive, and the ground pound is so iconic that even Mario stole it for later entries in his series. The level design compliments these controls well, as the exploratory nature of many of its levels put these skills to perfect use. To be fair, there are a few times where instant death pits and spikes feel unwarranted, but by no means is that much a dealbreaker.\\\\n                     \\\\n                     But not only do the controls hold up, so does this game’s graphics. The children’s book art-style gives the game a sense of whimsy that can still be felt 30 years later. Additionally, thanks to the Super FX chip, the 3D graphics are just mindboggling and add to the already impressive graphics for the time. Even today, the graphics still hold up shockingly well and is just a testament to how strong of an impression this game has on its players. Everything to the music to the enemy designs are just so delightful and full of that Nintendo charm. It’s easily one of the best platformers Nintendo has ever put out and it\\'s clear to see why this single game spawned a franchise of its own. Now if only any of the other titles lived up to this entry…\", \"Even as someone who\\'s not really a big fan of 2D platformers, I absolutely adore the two Super Mario World games (I know they\\'re only really linked by name but I like them for the same reasons). With extremely satisfying, if a bit loose, controls and complex but not overly tedious level design, I think these two games really embody what 2D platformers should be and make me understand why people love Mario, a series which I otherwise find just okay for the most part, so much.\", \"2D mario is at it\\'s best when it\\'s being the least 2D mario possible\", \"Pure art. An expressionist adventure that links the Mario and Yoshi franchises together by adding a phenomenal depth to their lore. The story is simple yet touching. The art style is some of the best I\\'ve seen by Nintendo; each frame looks like a Van Gogh painting. The levels have an excellent difficulty curve, starting off with simple levels and ending with platforming challenges of an unbeknownst complexity that will test the numerous skills you\\'ve acquired with Yoshi within the six worlds. The boss fights are likely the best I\\'ve seen in any 2D platformer. The experimental 2.5D sections work remarkably well and show the great capabilities of the SNES as a console. The greatest SNES game I\\'ve played thus far, the greatest prequel I\\'ve played thus far and possibly the greatest 2D platformer I\\'ve played thus far. Will be revisiting.\"]'"
      ]
     },
     "execution_count": 19,
     "metadata": {},
     "output_type": "execute_result"
    }
   ],
   "source": [
    "# The review that was has the highest sentiment score, seems to be quite accurate given the positive language\n",
    "# used to describe the game\n",
    "\n",
    "df.loc[992]['Reviews']"
   ]
  },
  {
   "cell_type": "code",
   "execution_count": 20,
   "id": "494b4b3d",
   "metadata": {},
   "outputs": [
    {
     "name": "stderr",
     "output_type": "stream",
     "text": [
      "/var/folders/bn/cbv7ftpx4cx24wl0rz52v1z00000gn/T/ipykernel_4169/2216872169.py:10: FutureWarning: The default value of regex will change from True to False in a future version.\n",
      "  df[\"Genres\"] = df[\"Genres\"].str.replace(r\"\\[|\\]\", \"\").str.strip()\n"
     ]
    },
    {
     "data": {
      "text/plain": [
       "Rating                   0.168689\n",
       "'RPG'                    0.106693\n",
       "'Platform'               0.079848\n",
       "'Turn Based Strategy'    0.048207\n",
       "'Adventure'              0.044182\n",
       "Name: Sentiment_Score, dtype: float64"
      ]
     },
     "execution_count": 20,
     "metadata": {},
     "output_type": "execute_result"
    }
   ],
   "source": [
    "# Looking at the coorelation between Sentiment Scores to Genres and Ratings.\n",
    "# There is a decently positive coorelation between Sentiment Scores and Ratings, as well as some of the top genres. \n",
    "# This makes sense, as the higher a sentiment score, the higher the rating of a game sould be.\n",
    "\n",
    "# We would expect to see similar genres from before showing up again since they make up a large\n",
    "# percentage of the top rated games. Adventure and RPG are towards the top again. However, the coorelations to the \n",
    "# genres are quite low, so this may not be the most useful metric to look at.\n",
    "\n",
    "# Remove brackets and extra whitespace from genres\n",
    "df[\"Genres\"] = df[\"Genres\"].str.replace(r\"\\[|\\]\", \"\").str.strip()\n",
    "\n",
    "# Convert genres into binary columns using one-hot encoding\n",
    "genres = df[\"Genres\"].str.get_dummies(sep=\", \")\n",
    "\n",
    "# Concatenate the one-hot encoded genres with the original DataFrame\n",
    "df_encoded = pd.concat([df, genres], axis=1)\n",
    "\n",
    "# Calculate the correlation matrix\n",
    "correlation_matrix = df_encoded.corr()\n",
    "\n",
    "# Extract the correlation values for the \"Sentiment\" column\n",
    "sentiment_correlation = correlation_matrix[\"Sentiment_Score\"]\n",
    "\n",
    "# Sort the correlation values in descending order\n",
    "sorted_correlation = sentiment_correlation.drop(\"Sentiment_Score\").sort_values(ascending=False)\n",
    "\n",
    "# Print the top correlations between genres and ratings\n",
    "sorted_correlation.head()"
   ]
  },
  {
   "cell_type": "code",
   "execution_count": 8,
   "id": "c5755c70",
   "metadata": {},
   "outputs": [
    {
     "data": {
      "application/vnd.plotly.v1+json": {
       "config": {
        "plotlyServerURL": "https://plotly.com"
       },
       "data": [
        {
         "line": {
          "color": "rgb(148, 0, 211)"
         },
         "marker": {
          "color": "rgb(148, 0, 211)"
         },
         "mode": "lines+markers",
         "name": "# Adventure Games",
         "type": "scatter",
         "x": [
          1985,
          1986,
          1987,
          1988,
          1989,
          1990,
          1991,
          1992,
          1993,
          1994,
          1995,
          1996,
          1997,
          1998,
          1999,
          2000,
          2001,
          2002,
          2003,
          2004,
          2005,
          2006,
          2007,
          2008,
          2009,
          2010,
          2011,
          2012,
          2013,
          2014,
          2015,
          2016,
          2017,
          2018,
          2019,
          2020,
          2021,
          2022
         ],
         "y": [
          1,
          3,
          3,
          1,
          2,
          5,
          5,
          4,
          3,
          7,
          6,
          9,
          9,
          10,
          9,
          9,
          18,
          17,
          14,
          27,
          27,
          19,
          24,
          23,
          20,
          41,
          40,
          33,
          59,
          41,
          48,
          52,
          54,
          57,
          73,
          56,
          68,
          83
         ]
        }
       ],
       "layout": {
        "font": {
         "color": "white"
        },
        "paper_bgcolor": "rgb(17, 17, 17)",
        "plot_bgcolor": "rgb(17, 17, 17)",
        "template": {
         "data": {
          "bar": [
           {
            "error_x": {
             "color": "#2a3f5f"
            },
            "error_y": {
             "color": "#2a3f5f"
            },
            "marker": {
             "line": {
              "color": "#E5ECF6",
              "width": 0.5
             },
             "pattern": {
              "fillmode": "overlay",
              "size": 10,
              "solidity": 0.2
             }
            },
            "type": "bar"
           }
          ],
          "barpolar": [
           {
            "marker": {
             "line": {
              "color": "#E5ECF6",
              "width": 0.5
             },
             "pattern": {
              "fillmode": "overlay",
              "size": 10,
              "solidity": 0.2
             }
            },
            "type": "barpolar"
           }
          ],
          "carpet": [
           {
            "aaxis": {
             "endlinecolor": "#2a3f5f",
             "gridcolor": "white",
             "linecolor": "white",
             "minorgridcolor": "white",
             "startlinecolor": "#2a3f5f"
            },
            "baxis": {
             "endlinecolor": "#2a3f5f",
             "gridcolor": "white",
             "linecolor": "white",
             "minorgridcolor": "white",
             "startlinecolor": "#2a3f5f"
            },
            "type": "carpet"
           }
          ],
          "choropleth": [
           {
            "colorbar": {
             "outlinewidth": 0,
             "ticks": ""
            },
            "type": "choropleth"
           }
          ],
          "contour": [
           {
            "colorbar": {
             "outlinewidth": 0,
             "ticks": ""
            },
            "colorscale": [
             [
              0,
              "#0d0887"
             ],
             [
              0.1111111111111111,
              "#46039f"
             ],
             [
              0.2222222222222222,
              "#7201a8"
             ],
             [
              0.3333333333333333,
              "#9c179e"
             ],
             [
              0.4444444444444444,
              "#bd3786"
             ],
             [
              0.5555555555555556,
              "#d8576b"
             ],
             [
              0.6666666666666666,
              "#ed7953"
             ],
             [
              0.7777777777777778,
              "#fb9f3a"
             ],
             [
              0.8888888888888888,
              "#fdca26"
             ],
             [
              1,
              "#f0f921"
             ]
            ],
            "type": "contour"
           }
          ],
          "contourcarpet": [
           {
            "colorbar": {
             "outlinewidth": 0,
             "ticks": ""
            },
            "type": "contourcarpet"
           }
          ],
          "heatmap": [
           {
            "colorbar": {
             "outlinewidth": 0,
             "ticks": ""
            },
            "colorscale": [
             [
              0,
              "#0d0887"
             ],
             [
              0.1111111111111111,
              "#46039f"
             ],
             [
              0.2222222222222222,
              "#7201a8"
             ],
             [
              0.3333333333333333,
              "#9c179e"
             ],
             [
              0.4444444444444444,
              "#bd3786"
             ],
             [
              0.5555555555555556,
              "#d8576b"
             ],
             [
              0.6666666666666666,
              "#ed7953"
             ],
             [
              0.7777777777777778,
              "#fb9f3a"
             ],
             [
              0.8888888888888888,
              "#fdca26"
             ],
             [
              1,
              "#f0f921"
             ]
            ],
            "type": "heatmap"
           }
          ],
          "heatmapgl": [
           {
            "colorbar": {
             "outlinewidth": 0,
             "ticks": ""
            },
            "colorscale": [
             [
              0,
              "#0d0887"
             ],
             [
              0.1111111111111111,
              "#46039f"
             ],
             [
              0.2222222222222222,
              "#7201a8"
             ],
             [
              0.3333333333333333,
              "#9c179e"
             ],
             [
              0.4444444444444444,
              "#bd3786"
             ],
             [
              0.5555555555555556,
              "#d8576b"
             ],
             [
              0.6666666666666666,
              "#ed7953"
             ],
             [
              0.7777777777777778,
              "#fb9f3a"
             ],
             [
              0.8888888888888888,
              "#fdca26"
             ],
             [
              1,
              "#f0f921"
             ]
            ],
            "type": "heatmapgl"
           }
          ],
          "histogram": [
           {
            "marker": {
             "pattern": {
              "fillmode": "overlay",
              "size": 10,
              "solidity": 0.2
             }
            },
            "type": "histogram"
           }
          ],
          "histogram2d": [
           {
            "colorbar": {
             "outlinewidth": 0,
             "ticks": ""
            },
            "colorscale": [
             [
              0,
              "#0d0887"
             ],
             [
              0.1111111111111111,
              "#46039f"
             ],
             [
              0.2222222222222222,
              "#7201a8"
             ],
             [
              0.3333333333333333,
              "#9c179e"
             ],
             [
              0.4444444444444444,
              "#bd3786"
             ],
             [
              0.5555555555555556,
              "#d8576b"
             ],
             [
              0.6666666666666666,
              "#ed7953"
             ],
             [
              0.7777777777777778,
              "#fb9f3a"
             ],
             [
              0.8888888888888888,
              "#fdca26"
             ],
             [
              1,
              "#f0f921"
             ]
            ],
            "type": "histogram2d"
           }
          ],
          "histogram2dcontour": [
           {
            "colorbar": {
             "outlinewidth": 0,
             "ticks": ""
            },
            "colorscale": [
             [
              0,
              "#0d0887"
             ],
             [
              0.1111111111111111,
              "#46039f"
             ],
             [
              0.2222222222222222,
              "#7201a8"
             ],
             [
              0.3333333333333333,
              "#9c179e"
             ],
             [
              0.4444444444444444,
              "#bd3786"
             ],
             [
              0.5555555555555556,
              "#d8576b"
             ],
             [
              0.6666666666666666,
              "#ed7953"
             ],
             [
              0.7777777777777778,
              "#fb9f3a"
             ],
             [
              0.8888888888888888,
              "#fdca26"
             ],
             [
              1,
              "#f0f921"
             ]
            ],
            "type": "histogram2dcontour"
           }
          ],
          "mesh3d": [
           {
            "colorbar": {
             "outlinewidth": 0,
             "ticks": ""
            },
            "type": "mesh3d"
           }
          ],
          "parcoords": [
           {
            "line": {
             "colorbar": {
              "outlinewidth": 0,
              "ticks": ""
             }
            },
            "type": "parcoords"
           }
          ],
          "pie": [
           {
            "automargin": true,
            "type": "pie"
           }
          ],
          "scatter": [
           {
            "marker": {
             "colorbar": {
              "outlinewidth": 0,
              "ticks": ""
             }
            },
            "type": "scatter"
           }
          ],
          "scatter3d": [
           {
            "line": {
             "colorbar": {
              "outlinewidth": 0,
              "ticks": ""
             }
            },
            "marker": {
             "colorbar": {
              "outlinewidth": 0,
              "ticks": ""
             }
            },
            "type": "scatter3d"
           }
          ],
          "scattercarpet": [
           {
            "marker": {
             "colorbar": {
              "outlinewidth": 0,
              "ticks": ""
             }
            },
            "type": "scattercarpet"
           }
          ],
          "scattergeo": [
           {
            "marker": {
             "colorbar": {
              "outlinewidth": 0,
              "ticks": ""
             }
            },
            "type": "scattergeo"
           }
          ],
          "scattergl": [
           {
            "marker": {
             "colorbar": {
              "outlinewidth": 0,
              "ticks": ""
             }
            },
            "type": "scattergl"
           }
          ],
          "scattermapbox": [
           {
            "marker": {
             "colorbar": {
              "outlinewidth": 0,
              "ticks": ""
             }
            },
            "type": "scattermapbox"
           }
          ],
          "scatterpolar": [
           {
            "marker": {
             "colorbar": {
              "outlinewidth": 0,
              "ticks": ""
             }
            },
            "type": "scatterpolar"
           }
          ],
          "scatterpolargl": [
           {
            "marker": {
             "colorbar": {
              "outlinewidth": 0,
              "ticks": ""
             }
            },
            "type": "scatterpolargl"
           }
          ],
          "scatterternary": [
           {
            "marker": {
             "colorbar": {
              "outlinewidth": 0,
              "ticks": ""
             }
            },
            "type": "scatterternary"
           }
          ],
          "surface": [
           {
            "colorbar": {
             "outlinewidth": 0,
             "ticks": ""
            },
            "colorscale": [
             [
              0,
              "#0d0887"
             ],
             [
              0.1111111111111111,
              "#46039f"
             ],
             [
              0.2222222222222222,
              "#7201a8"
             ],
             [
              0.3333333333333333,
              "#9c179e"
             ],
             [
              0.4444444444444444,
              "#bd3786"
             ],
             [
              0.5555555555555556,
              "#d8576b"
             ],
             [
              0.6666666666666666,
              "#ed7953"
             ],
             [
              0.7777777777777778,
              "#fb9f3a"
             ],
             [
              0.8888888888888888,
              "#fdca26"
             ],
             [
              1,
              "#f0f921"
             ]
            ],
            "type": "surface"
           }
          ],
          "table": [
           {
            "cells": {
             "fill": {
              "color": "#EBF0F8"
             },
             "line": {
              "color": "white"
             }
            },
            "header": {
             "fill": {
              "color": "#C8D4E3"
             },
             "line": {
              "color": "white"
             }
            },
            "type": "table"
           }
          ]
         },
         "layout": {
          "annotationdefaults": {
           "arrowcolor": "#2a3f5f",
           "arrowhead": 0,
           "arrowwidth": 1
          },
          "autotypenumbers": "strict",
          "coloraxis": {
           "colorbar": {
            "outlinewidth": 0,
            "ticks": ""
           }
          },
          "colorscale": {
           "diverging": [
            [
             0,
             "#8e0152"
            ],
            [
             0.1,
             "#c51b7d"
            ],
            [
             0.2,
             "#de77ae"
            ],
            [
             0.3,
             "#f1b6da"
            ],
            [
             0.4,
             "#fde0ef"
            ],
            [
             0.5,
             "#f7f7f7"
            ],
            [
             0.6,
             "#e6f5d0"
            ],
            [
             0.7,
             "#b8e186"
            ],
            [
             0.8,
             "#7fbc41"
            ],
            [
             0.9,
             "#4d9221"
            ],
            [
             1,
             "#276419"
            ]
           ],
           "sequential": [
            [
             0,
             "#0d0887"
            ],
            [
             0.1111111111111111,
             "#46039f"
            ],
            [
             0.2222222222222222,
             "#7201a8"
            ],
            [
             0.3333333333333333,
             "#9c179e"
            ],
            [
             0.4444444444444444,
             "#bd3786"
            ],
            [
             0.5555555555555556,
             "#d8576b"
            ],
            [
             0.6666666666666666,
             "#ed7953"
            ],
            [
             0.7777777777777778,
             "#fb9f3a"
            ],
            [
             0.8888888888888888,
             "#fdca26"
            ],
            [
             1,
             "#f0f921"
            ]
           ],
           "sequentialminus": [
            [
             0,
             "#0d0887"
            ],
            [
             0.1111111111111111,
             "#46039f"
            ],
            [
             0.2222222222222222,
             "#7201a8"
            ],
            [
             0.3333333333333333,
             "#9c179e"
            ],
            [
             0.4444444444444444,
             "#bd3786"
            ],
            [
             0.5555555555555556,
             "#d8576b"
            ],
            [
             0.6666666666666666,
             "#ed7953"
            ],
            [
             0.7777777777777778,
             "#fb9f3a"
            ],
            [
             0.8888888888888888,
             "#fdca26"
            ],
            [
             1,
             "#f0f921"
            ]
           ]
          },
          "colorway": [
           "#636efa",
           "#EF553B",
           "#00cc96",
           "#ab63fa",
           "#FFA15A",
           "#19d3f3",
           "#FF6692",
           "#B6E880",
           "#FF97FF",
           "#FECB52"
          ],
          "font": {
           "color": "#2a3f5f"
          },
          "geo": {
           "bgcolor": "white",
           "lakecolor": "white",
           "landcolor": "#E5ECF6",
           "showlakes": true,
           "showland": true,
           "subunitcolor": "white"
          },
          "hoverlabel": {
           "align": "left"
          },
          "hovermode": "closest",
          "mapbox": {
           "style": "light"
          },
          "paper_bgcolor": "white",
          "plot_bgcolor": "#E5ECF6",
          "polar": {
           "angularaxis": {
            "gridcolor": "white",
            "linecolor": "white",
            "ticks": ""
           },
           "bgcolor": "#E5ECF6",
           "radialaxis": {
            "gridcolor": "white",
            "linecolor": "white",
            "ticks": ""
           }
          },
          "scene": {
           "xaxis": {
            "backgroundcolor": "#E5ECF6",
            "gridcolor": "white",
            "gridwidth": 2,
            "linecolor": "white",
            "showbackground": true,
            "ticks": "",
            "zerolinecolor": "white"
           },
           "yaxis": {
            "backgroundcolor": "#E5ECF6",
            "gridcolor": "white",
            "gridwidth": 2,
            "linecolor": "white",
            "showbackground": true,
            "ticks": "",
            "zerolinecolor": "white"
           },
           "zaxis": {
            "backgroundcolor": "#E5ECF6",
            "gridcolor": "white",
            "gridwidth": 2,
            "linecolor": "white",
            "showbackground": true,
            "ticks": "",
            "zerolinecolor": "white"
           }
          },
          "shapedefaults": {
           "line": {
            "color": "#2a3f5f"
           }
          },
          "ternary": {
           "aaxis": {
            "gridcolor": "white",
            "linecolor": "white",
            "ticks": ""
           },
           "baxis": {
            "gridcolor": "white",
            "linecolor": "white",
            "ticks": ""
           },
           "bgcolor": "#E5ECF6",
           "caxis": {
            "gridcolor": "white",
            "linecolor": "white",
            "ticks": ""
           }
          },
          "title": {
           "x": 0.05
          },
          "xaxis": {
           "automargin": true,
           "gridcolor": "white",
           "linecolor": "white",
           "ticks": "",
           "title": {
            "standoff": 15
           },
           "zerolinecolor": "white",
           "zerolinewidth": 2
          },
          "yaxis": {
           "automargin": true,
           "gridcolor": "white",
           "linecolor": "white",
           "ticks": "",
           "title": {
            "standoff": 15
           },
           "zerolinecolor": "white",
           "zerolinewidth": 2
          }
         }
        },
        "title": {
         "font": {
          "color": "white"
         },
         "text": "# Adventure Games over Time"
        },
        "xaxis": {
         "tickfont": {
          "color": "white"
         },
         "title": {
          "text": "Year"
         }
        },
        "yaxis": {
         "tickfont": {
          "color": "white"
         },
         "title": {
          "text": "Count"
         }
        }
       }
      },
      "text/html": [
       "<div>                            <div id=\"5db0e1b0-abb5-4835-b76a-c67a66b400db\" class=\"plotly-graph-div\" style=\"height:525px; width:100%;\"></div>            <script type=\"text/javascript\">                require([\"plotly\"], function(Plotly) {                    window.PLOTLYENV=window.PLOTLYENV || {};                                    if (document.getElementById(\"5db0e1b0-abb5-4835-b76a-c67a66b400db\")) {                    Plotly.newPlot(                        \"5db0e1b0-abb5-4835-b76a-c67a66b400db\",                        [{\"line\":{\"color\":\"rgb(148, 0, 211)\"},\"marker\":{\"color\":\"rgb(148, 0, 211)\"},\"mode\":\"lines+markers\",\"name\":\"# Adventure Games\",\"x\":[1985,1986,1987,1988,1989,1990,1991,1992,1993,1994,1995,1996,1997,1998,1999,2000,2001,2002,2003,2004,2005,2006,2007,2008,2009,2010,2011,2012,2013,2014,2015,2016,2017,2018,2019,2020,2021,2022],\"y\":[1,3,3,1,2,5,5,4,3,7,6,9,9,10,9,9,18,17,14,27,27,19,24,23,20,41,40,33,59,41,48,52,54,57,73,56,68,83],\"type\":\"scatter\"}],                        {\"template\":{\"data\":{\"bar\":[{\"error_x\":{\"color\":\"#2a3f5f\"},\"error_y\":{\"color\":\"#2a3f5f\"},\"marker\":{\"line\":{\"color\":\"#E5ECF6\",\"width\":0.5},\"pattern\":{\"fillmode\":\"overlay\",\"size\":10,\"solidity\":0.2}},\"type\":\"bar\"}],\"barpolar\":[{\"marker\":{\"line\":{\"color\":\"#E5ECF6\",\"width\":0.5},\"pattern\":{\"fillmode\":\"overlay\",\"size\":10,\"solidity\":0.2}},\"type\":\"barpolar\"}],\"carpet\":[{\"aaxis\":{\"endlinecolor\":\"#2a3f5f\",\"gridcolor\":\"white\",\"linecolor\":\"white\",\"minorgridcolor\":\"white\",\"startlinecolor\":\"#2a3f5f\"},\"baxis\":{\"endlinecolor\":\"#2a3f5f\",\"gridcolor\":\"white\",\"linecolor\":\"white\",\"minorgridcolor\":\"white\",\"startlinecolor\":\"#2a3f5f\"},\"type\":\"carpet\"}],\"choropleth\":[{\"colorbar\":{\"outlinewidth\":0,\"ticks\":\"\"},\"type\":\"choropleth\"}],\"contour\":[{\"colorbar\":{\"outlinewidth\":0,\"ticks\":\"\"},\"colorscale\":[[0.0,\"#0d0887\"],[0.1111111111111111,\"#46039f\"],[0.2222222222222222,\"#7201a8\"],[0.3333333333333333,\"#9c179e\"],[0.4444444444444444,\"#bd3786\"],[0.5555555555555556,\"#d8576b\"],[0.6666666666666666,\"#ed7953\"],[0.7777777777777778,\"#fb9f3a\"],[0.8888888888888888,\"#fdca26\"],[1.0,\"#f0f921\"]],\"type\":\"contour\"}],\"contourcarpet\":[{\"colorbar\":{\"outlinewidth\":0,\"ticks\":\"\"},\"type\":\"contourcarpet\"}],\"heatmap\":[{\"colorbar\":{\"outlinewidth\":0,\"ticks\":\"\"},\"colorscale\":[[0.0,\"#0d0887\"],[0.1111111111111111,\"#46039f\"],[0.2222222222222222,\"#7201a8\"],[0.3333333333333333,\"#9c179e\"],[0.4444444444444444,\"#bd3786\"],[0.5555555555555556,\"#d8576b\"],[0.6666666666666666,\"#ed7953\"],[0.7777777777777778,\"#fb9f3a\"],[0.8888888888888888,\"#fdca26\"],[1.0,\"#f0f921\"]],\"type\":\"heatmap\"}],\"heatmapgl\":[{\"colorbar\":{\"outlinewidth\":0,\"ticks\":\"\"},\"colorscale\":[[0.0,\"#0d0887\"],[0.1111111111111111,\"#46039f\"],[0.2222222222222222,\"#7201a8\"],[0.3333333333333333,\"#9c179e\"],[0.4444444444444444,\"#bd3786\"],[0.5555555555555556,\"#d8576b\"],[0.6666666666666666,\"#ed7953\"],[0.7777777777777778,\"#fb9f3a\"],[0.8888888888888888,\"#fdca26\"],[1.0,\"#f0f921\"]],\"type\":\"heatmapgl\"}],\"histogram\":[{\"marker\":{\"pattern\":{\"fillmode\":\"overlay\",\"size\":10,\"solidity\":0.2}},\"type\":\"histogram\"}],\"histogram2d\":[{\"colorbar\":{\"outlinewidth\":0,\"ticks\":\"\"},\"colorscale\":[[0.0,\"#0d0887\"],[0.1111111111111111,\"#46039f\"],[0.2222222222222222,\"#7201a8\"],[0.3333333333333333,\"#9c179e\"],[0.4444444444444444,\"#bd3786\"],[0.5555555555555556,\"#d8576b\"],[0.6666666666666666,\"#ed7953\"],[0.7777777777777778,\"#fb9f3a\"],[0.8888888888888888,\"#fdca26\"],[1.0,\"#f0f921\"]],\"type\":\"histogram2d\"}],\"histogram2dcontour\":[{\"colorbar\":{\"outlinewidth\":0,\"ticks\":\"\"},\"colorscale\":[[0.0,\"#0d0887\"],[0.1111111111111111,\"#46039f\"],[0.2222222222222222,\"#7201a8\"],[0.3333333333333333,\"#9c179e\"],[0.4444444444444444,\"#bd3786\"],[0.5555555555555556,\"#d8576b\"],[0.6666666666666666,\"#ed7953\"],[0.7777777777777778,\"#fb9f3a\"],[0.8888888888888888,\"#fdca26\"],[1.0,\"#f0f921\"]],\"type\":\"histogram2dcontour\"}],\"mesh3d\":[{\"colorbar\":{\"outlinewidth\":0,\"ticks\":\"\"},\"type\":\"mesh3d\"}],\"parcoords\":[{\"line\":{\"colorbar\":{\"outlinewidth\":0,\"ticks\":\"\"}},\"type\":\"parcoords\"}],\"pie\":[{\"automargin\":true,\"type\":\"pie\"}],\"scatter\":[{\"marker\":{\"colorbar\":{\"outlinewidth\":0,\"ticks\":\"\"}},\"type\":\"scatter\"}],\"scatter3d\":[{\"line\":{\"colorbar\":{\"outlinewidth\":0,\"ticks\":\"\"}},\"marker\":{\"colorbar\":{\"outlinewidth\":0,\"ticks\":\"\"}},\"type\":\"scatter3d\"}],\"scattercarpet\":[{\"marker\":{\"colorbar\":{\"outlinewidth\":0,\"ticks\":\"\"}},\"type\":\"scattercarpet\"}],\"scattergeo\":[{\"marker\":{\"colorbar\":{\"outlinewidth\":0,\"ticks\":\"\"}},\"type\":\"scattergeo\"}],\"scattergl\":[{\"marker\":{\"colorbar\":{\"outlinewidth\":0,\"ticks\":\"\"}},\"type\":\"scattergl\"}],\"scattermapbox\":[{\"marker\":{\"colorbar\":{\"outlinewidth\":0,\"ticks\":\"\"}},\"type\":\"scattermapbox\"}],\"scatterpolar\":[{\"marker\":{\"colorbar\":{\"outlinewidth\":0,\"ticks\":\"\"}},\"type\":\"scatterpolar\"}],\"scatterpolargl\":[{\"marker\":{\"colorbar\":{\"outlinewidth\":0,\"ticks\":\"\"}},\"type\":\"scatterpolargl\"}],\"scatterternary\":[{\"marker\":{\"colorbar\":{\"outlinewidth\":0,\"ticks\":\"\"}},\"type\":\"scatterternary\"}],\"surface\":[{\"colorbar\":{\"outlinewidth\":0,\"ticks\":\"\"},\"colorscale\":[[0.0,\"#0d0887\"],[0.1111111111111111,\"#46039f\"],[0.2222222222222222,\"#7201a8\"],[0.3333333333333333,\"#9c179e\"],[0.4444444444444444,\"#bd3786\"],[0.5555555555555556,\"#d8576b\"],[0.6666666666666666,\"#ed7953\"],[0.7777777777777778,\"#fb9f3a\"],[0.8888888888888888,\"#fdca26\"],[1.0,\"#f0f921\"]],\"type\":\"surface\"}],\"table\":[{\"cells\":{\"fill\":{\"color\":\"#EBF0F8\"},\"line\":{\"color\":\"white\"}},\"header\":{\"fill\":{\"color\":\"#C8D4E3\"},\"line\":{\"color\":\"white\"}},\"type\":\"table\"}]},\"layout\":{\"annotationdefaults\":{\"arrowcolor\":\"#2a3f5f\",\"arrowhead\":0,\"arrowwidth\":1},\"autotypenumbers\":\"strict\",\"coloraxis\":{\"colorbar\":{\"outlinewidth\":0,\"ticks\":\"\"}},\"colorscale\":{\"diverging\":[[0,\"#8e0152\"],[0.1,\"#c51b7d\"],[0.2,\"#de77ae\"],[0.3,\"#f1b6da\"],[0.4,\"#fde0ef\"],[0.5,\"#f7f7f7\"],[0.6,\"#e6f5d0\"],[0.7,\"#b8e186\"],[0.8,\"#7fbc41\"],[0.9,\"#4d9221\"],[1,\"#276419\"]],\"sequential\":[[0.0,\"#0d0887\"],[0.1111111111111111,\"#46039f\"],[0.2222222222222222,\"#7201a8\"],[0.3333333333333333,\"#9c179e\"],[0.4444444444444444,\"#bd3786\"],[0.5555555555555556,\"#d8576b\"],[0.6666666666666666,\"#ed7953\"],[0.7777777777777778,\"#fb9f3a\"],[0.8888888888888888,\"#fdca26\"],[1.0,\"#f0f921\"]],\"sequentialminus\":[[0.0,\"#0d0887\"],[0.1111111111111111,\"#46039f\"],[0.2222222222222222,\"#7201a8\"],[0.3333333333333333,\"#9c179e\"],[0.4444444444444444,\"#bd3786\"],[0.5555555555555556,\"#d8576b\"],[0.6666666666666666,\"#ed7953\"],[0.7777777777777778,\"#fb9f3a\"],[0.8888888888888888,\"#fdca26\"],[1.0,\"#f0f921\"]]},\"colorway\":[\"#636efa\",\"#EF553B\",\"#00cc96\",\"#ab63fa\",\"#FFA15A\",\"#19d3f3\",\"#FF6692\",\"#B6E880\",\"#FF97FF\",\"#FECB52\"],\"font\":{\"color\":\"#2a3f5f\"},\"geo\":{\"bgcolor\":\"white\",\"lakecolor\":\"white\",\"landcolor\":\"#E5ECF6\",\"showlakes\":true,\"showland\":true,\"subunitcolor\":\"white\"},\"hoverlabel\":{\"align\":\"left\"},\"hovermode\":\"closest\",\"mapbox\":{\"style\":\"light\"},\"paper_bgcolor\":\"white\",\"plot_bgcolor\":\"#E5ECF6\",\"polar\":{\"angularaxis\":{\"gridcolor\":\"white\",\"linecolor\":\"white\",\"ticks\":\"\"},\"bgcolor\":\"#E5ECF6\",\"radialaxis\":{\"gridcolor\":\"white\",\"linecolor\":\"white\",\"ticks\":\"\"}},\"scene\":{\"xaxis\":{\"backgroundcolor\":\"#E5ECF6\",\"gridcolor\":\"white\",\"gridwidth\":2,\"linecolor\":\"white\",\"showbackground\":true,\"ticks\":\"\",\"zerolinecolor\":\"white\"},\"yaxis\":{\"backgroundcolor\":\"#E5ECF6\",\"gridcolor\":\"white\",\"gridwidth\":2,\"linecolor\":\"white\",\"showbackground\":true,\"ticks\":\"\",\"zerolinecolor\":\"white\"},\"zaxis\":{\"backgroundcolor\":\"#E5ECF6\",\"gridcolor\":\"white\",\"gridwidth\":2,\"linecolor\":\"white\",\"showbackground\":true,\"ticks\":\"\",\"zerolinecolor\":\"white\"}},\"shapedefaults\":{\"line\":{\"color\":\"#2a3f5f\"}},\"ternary\":{\"aaxis\":{\"gridcolor\":\"white\",\"linecolor\":\"white\",\"ticks\":\"\"},\"baxis\":{\"gridcolor\":\"white\",\"linecolor\":\"white\",\"ticks\":\"\"},\"bgcolor\":\"#E5ECF6\",\"caxis\":{\"gridcolor\":\"white\",\"linecolor\":\"white\",\"ticks\":\"\"}},\"title\":{\"x\":0.05},\"xaxis\":{\"automargin\":true,\"gridcolor\":\"white\",\"linecolor\":\"white\",\"ticks\":\"\",\"title\":{\"standoff\":15},\"zerolinecolor\":\"white\",\"zerolinewidth\":2},\"yaxis\":{\"automargin\":true,\"gridcolor\":\"white\",\"linecolor\":\"white\",\"ticks\":\"\",\"title\":{\"standoff\":15},\"zerolinecolor\":\"white\",\"zerolinewidth\":2}}},\"font\":{\"color\":\"white\"},\"plot_bgcolor\":\"rgb(17, 17, 17)\",\"paper_bgcolor\":\"rgb(17, 17, 17)\",\"xaxis\":{\"title\":{\"text\":\"Year\"},\"tickfont\":{\"color\":\"white\"}},\"yaxis\":{\"title\":{\"text\":\"Count\"},\"tickfont\":{\"color\":\"white\"}},\"title\":{\"text\":\"# Adventure Games over Time\",\"font\":{\"color\":\"white\"}}},                        {\"responsive\": true}                    ).then(function(){\n",
       "                            \n",
       "var gd = document.getElementById('5db0e1b0-abb5-4835-b76a-c67a66b400db');\n",
       "var x = new MutationObserver(function (mutations, observer) {{\n",
       "        var display = window.getComputedStyle(gd).display;\n",
       "        if (!display || display === 'none') {{\n",
       "            console.log([gd, 'removed!']);\n",
       "            Plotly.purge(gd);\n",
       "            observer.disconnect();\n",
       "        }}\n",
       "}});\n",
       "\n",
       "// Listen for the removal of the full notebook cells\n",
       "var notebookContainer = gd.closest('#notebook-container');\n",
       "if (notebookContainer) {{\n",
       "    x.observe(notebookContainer, {childList: true});\n",
       "}}\n",
       "\n",
       "// Listen for the clearing of the current output cell\n",
       "var outputEl = gd.closest('.output');\n",
       "if (outputEl) {{\n",
       "    x.observe(outputEl, {childList: true});\n",
       "}}\n",
       "\n",
       "                        })                };                });            </script>        </div>"
      ]
     },
     "metadata": {},
     "output_type": "display_data"
    }
   ],
   "source": [
    "# Creating a time series analysis to further look at the growth of the Adventure genre over time.\n",
    "# The results seem to support the growing popularity of adventure games.\n",
    "\n",
    "# Convert the 'Release Date' column to datetime format\n",
    "df['Release Date'] = pd.to_datetime(df['Release Date'], errors='coerce')\n",
    "\n",
    "# Filter the DataFrame to include only games with the 'Adventure' genre\n",
    "adventure_games = df[df['Genres'].str.contains('Adventure')]\n",
    "\n",
    "# Filter the adventure games up to the current year\n",
    "adventure_games = adventure_games[adventure_games['Release Date'].dt.year <= 2022]\n",
    "\n",
    "# Group the data by year and count the number of games\n",
    "adventure_counts = adventure_games.groupby(adventure_games['Release Date'].dt.year).size().reset_index()\n",
    "adventure_counts.columns = ['Year', 'Count']\n",
    "\n",
    "# Create a Plotly figure with a dark background\n",
    "fig = go.Figure()\n",
    "fig.update_layout(\n",
    "    plot_bgcolor='rgb(17, 17, 17)',\n",
    "    paper_bgcolor='rgb(17, 17, 17)',\n",
    "    font_color='white'\n",
    ")\n",
    "\n",
    "# Add the time series line plot\n",
    "fig.add_trace(go.Scatter(\n",
    "    x=adventure_counts['Year'],\n",
    "    y=adventure_counts['Count'],\n",
    "    mode='lines+markers',\n",
    "    marker=dict(color='rgb(148, 0, 211)'),  # Purple marker color\n",
    "    line=dict(color='rgb(148, 0, 211)'),  # Purple line color\n",
    "    name='# Adventure Games'\n",
    "))\n",
    "\n",
    "# Set axis labels and title\n",
    "fig.update_xaxes(title_text='Year', tickfont=dict(color='white'))\n",
    "fig.update_yaxes(title_text='Count', tickfont=dict(color='white'))\n",
    "fig.update_layout(title='# Adventure Games over Time', title_font_color='white')\n",
    "\n",
    "# Display the plot\n",
    "fig.show()"
   ]
  },
  {
   "cell_type": "code",
   "execution_count": 7,
   "id": "70b576cb",
   "metadata": {},
   "outputs": [
    {
     "data": {
      "application/vnd.plotly.v1+json": {
       "config": {
        "plotlyServerURL": "https://plotly.com"
       },
       "data": [
        {
         "line": {
          "color": "rgb(148, 0, 211)"
         },
         "marker": {
          "color": "rgb(148, 0, 211)"
         },
         "mode": "lines+markers",
         "name": "Average Rating",
         "type": "scatter",
         "x": [
          1980,
          1982,
          1985,
          1986,
          1987,
          1988,
          1989,
          1990,
          1991,
          1992,
          1993,
          1994,
          1995,
          1996,
          1997,
          1998,
          1999,
          2000,
          2001,
          2002,
          2003,
          2004,
          2005,
          2006,
          2007,
          2008,
          2009,
          2010,
          2011,
          2012,
          2013,
          2014,
          2015,
          2016,
          2017,
          2018,
          2019,
          2020,
          2021,
          2022,
          2023,
          2024,
          2025
         ],
         "y": [
          3.4,
          3.6,
          3.5,
          3.275,
          2.766666666666667,
          3.5200000000000005,
          3.88,
          3.6666666666666665,
          3.463636363636364,
          3.466666666666667,
          3.733333333333333,
          4.072727272727272,
          3.8083333333333336,
          3.6599999999999997,
          3.688888888888889,
          4.10625,
          3.656,
          3.933333333333333,
          3.756666666666667,
          3.8,
          3.6384615384615384,
          3.8837837837837834,
          3.8243902439024393,
          3.709375,
          3.656,
          3.722727272727273,
          3.6950000000000003,
          3.7586206896551726,
          3.82,
          3.61,
          3.5558823529411767,
          3.5,
          3.5589041095890415,
          3.6959999999999997,
          3.71,
          3.8155844155844156,
          3.84367816091954,
          3.7689189189189185,
          3.7948453608247426,
          3.731818181818182,
          3.6,
          null,
          null
         ]
        }
       ],
       "layout": {
        "font": {
         "color": "white"
        },
        "paper_bgcolor": "rgb(17, 17, 17)",
        "plot_bgcolor": "rgb(17, 17, 17)",
        "template": {
         "data": {
          "bar": [
           {
            "error_x": {
             "color": "#2a3f5f"
            },
            "error_y": {
             "color": "#2a3f5f"
            },
            "marker": {
             "line": {
              "color": "#E5ECF6",
              "width": 0.5
             },
             "pattern": {
              "fillmode": "overlay",
              "size": 10,
              "solidity": 0.2
             }
            },
            "type": "bar"
           }
          ],
          "barpolar": [
           {
            "marker": {
             "line": {
              "color": "#E5ECF6",
              "width": 0.5
             },
             "pattern": {
              "fillmode": "overlay",
              "size": 10,
              "solidity": 0.2
             }
            },
            "type": "barpolar"
           }
          ],
          "carpet": [
           {
            "aaxis": {
             "endlinecolor": "#2a3f5f",
             "gridcolor": "white",
             "linecolor": "white",
             "minorgridcolor": "white",
             "startlinecolor": "#2a3f5f"
            },
            "baxis": {
             "endlinecolor": "#2a3f5f",
             "gridcolor": "white",
             "linecolor": "white",
             "minorgridcolor": "white",
             "startlinecolor": "#2a3f5f"
            },
            "type": "carpet"
           }
          ],
          "choropleth": [
           {
            "colorbar": {
             "outlinewidth": 0,
             "ticks": ""
            },
            "type": "choropleth"
           }
          ],
          "contour": [
           {
            "colorbar": {
             "outlinewidth": 0,
             "ticks": ""
            },
            "colorscale": [
             [
              0,
              "#0d0887"
             ],
             [
              0.1111111111111111,
              "#46039f"
             ],
             [
              0.2222222222222222,
              "#7201a8"
             ],
             [
              0.3333333333333333,
              "#9c179e"
             ],
             [
              0.4444444444444444,
              "#bd3786"
             ],
             [
              0.5555555555555556,
              "#d8576b"
             ],
             [
              0.6666666666666666,
              "#ed7953"
             ],
             [
              0.7777777777777778,
              "#fb9f3a"
             ],
             [
              0.8888888888888888,
              "#fdca26"
             ],
             [
              1,
              "#f0f921"
             ]
            ],
            "type": "contour"
           }
          ],
          "contourcarpet": [
           {
            "colorbar": {
             "outlinewidth": 0,
             "ticks": ""
            },
            "type": "contourcarpet"
           }
          ],
          "heatmap": [
           {
            "colorbar": {
             "outlinewidth": 0,
             "ticks": ""
            },
            "colorscale": [
             [
              0,
              "#0d0887"
             ],
             [
              0.1111111111111111,
              "#46039f"
             ],
             [
              0.2222222222222222,
              "#7201a8"
             ],
             [
              0.3333333333333333,
              "#9c179e"
             ],
             [
              0.4444444444444444,
              "#bd3786"
             ],
             [
              0.5555555555555556,
              "#d8576b"
             ],
             [
              0.6666666666666666,
              "#ed7953"
             ],
             [
              0.7777777777777778,
              "#fb9f3a"
             ],
             [
              0.8888888888888888,
              "#fdca26"
             ],
             [
              1,
              "#f0f921"
             ]
            ],
            "type": "heatmap"
           }
          ],
          "heatmapgl": [
           {
            "colorbar": {
             "outlinewidth": 0,
             "ticks": ""
            },
            "colorscale": [
             [
              0,
              "#0d0887"
             ],
             [
              0.1111111111111111,
              "#46039f"
             ],
             [
              0.2222222222222222,
              "#7201a8"
             ],
             [
              0.3333333333333333,
              "#9c179e"
             ],
             [
              0.4444444444444444,
              "#bd3786"
             ],
             [
              0.5555555555555556,
              "#d8576b"
             ],
             [
              0.6666666666666666,
              "#ed7953"
             ],
             [
              0.7777777777777778,
              "#fb9f3a"
             ],
             [
              0.8888888888888888,
              "#fdca26"
             ],
             [
              1,
              "#f0f921"
             ]
            ],
            "type": "heatmapgl"
           }
          ],
          "histogram": [
           {
            "marker": {
             "pattern": {
              "fillmode": "overlay",
              "size": 10,
              "solidity": 0.2
             }
            },
            "type": "histogram"
           }
          ],
          "histogram2d": [
           {
            "colorbar": {
             "outlinewidth": 0,
             "ticks": ""
            },
            "colorscale": [
             [
              0,
              "#0d0887"
             ],
             [
              0.1111111111111111,
              "#46039f"
             ],
             [
              0.2222222222222222,
              "#7201a8"
             ],
             [
              0.3333333333333333,
              "#9c179e"
             ],
             [
              0.4444444444444444,
              "#bd3786"
             ],
             [
              0.5555555555555556,
              "#d8576b"
             ],
             [
              0.6666666666666666,
              "#ed7953"
             ],
             [
              0.7777777777777778,
              "#fb9f3a"
             ],
             [
              0.8888888888888888,
              "#fdca26"
             ],
             [
              1,
              "#f0f921"
             ]
            ],
            "type": "histogram2d"
           }
          ],
          "histogram2dcontour": [
           {
            "colorbar": {
             "outlinewidth": 0,
             "ticks": ""
            },
            "colorscale": [
             [
              0,
              "#0d0887"
             ],
             [
              0.1111111111111111,
              "#46039f"
             ],
             [
              0.2222222222222222,
              "#7201a8"
             ],
             [
              0.3333333333333333,
              "#9c179e"
             ],
             [
              0.4444444444444444,
              "#bd3786"
             ],
             [
              0.5555555555555556,
              "#d8576b"
             ],
             [
              0.6666666666666666,
              "#ed7953"
             ],
             [
              0.7777777777777778,
              "#fb9f3a"
             ],
             [
              0.8888888888888888,
              "#fdca26"
             ],
             [
              1,
              "#f0f921"
             ]
            ],
            "type": "histogram2dcontour"
           }
          ],
          "mesh3d": [
           {
            "colorbar": {
             "outlinewidth": 0,
             "ticks": ""
            },
            "type": "mesh3d"
           }
          ],
          "parcoords": [
           {
            "line": {
             "colorbar": {
              "outlinewidth": 0,
              "ticks": ""
             }
            },
            "type": "parcoords"
           }
          ],
          "pie": [
           {
            "automargin": true,
            "type": "pie"
           }
          ],
          "scatter": [
           {
            "marker": {
             "colorbar": {
              "outlinewidth": 0,
              "ticks": ""
             }
            },
            "type": "scatter"
           }
          ],
          "scatter3d": [
           {
            "line": {
             "colorbar": {
              "outlinewidth": 0,
              "ticks": ""
             }
            },
            "marker": {
             "colorbar": {
              "outlinewidth": 0,
              "ticks": ""
             }
            },
            "type": "scatter3d"
           }
          ],
          "scattercarpet": [
           {
            "marker": {
             "colorbar": {
              "outlinewidth": 0,
              "ticks": ""
             }
            },
            "type": "scattercarpet"
           }
          ],
          "scattergeo": [
           {
            "marker": {
             "colorbar": {
              "outlinewidth": 0,
              "ticks": ""
             }
            },
            "type": "scattergeo"
           }
          ],
          "scattergl": [
           {
            "marker": {
             "colorbar": {
              "outlinewidth": 0,
              "ticks": ""
             }
            },
            "type": "scattergl"
           }
          ],
          "scattermapbox": [
           {
            "marker": {
             "colorbar": {
              "outlinewidth": 0,
              "ticks": ""
             }
            },
            "type": "scattermapbox"
           }
          ],
          "scatterpolar": [
           {
            "marker": {
             "colorbar": {
              "outlinewidth": 0,
              "ticks": ""
             }
            },
            "type": "scatterpolar"
           }
          ],
          "scatterpolargl": [
           {
            "marker": {
             "colorbar": {
              "outlinewidth": 0,
              "ticks": ""
             }
            },
            "type": "scatterpolargl"
           }
          ],
          "scatterternary": [
           {
            "marker": {
             "colorbar": {
              "outlinewidth": 0,
              "ticks": ""
             }
            },
            "type": "scatterternary"
           }
          ],
          "surface": [
           {
            "colorbar": {
             "outlinewidth": 0,
             "ticks": ""
            },
            "colorscale": [
             [
              0,
              "#0d0887"
             ],
             [
              0.1111111111111111,
              "#46039f"
             ],
             [
              0.2222222222222222,
              "#7201a8"
             ],
             [
              0.3333333333333333,
              "#9c179e"
             ],
             [
              0.4444444444444444,
              "#bd3786"
             ],
             [
              0.5555555555555556,
              "#d8576b"
             ],
             [
              0.6666666666666666,
              "#ed7953"
             ],
             [
              0.7777777777777778,
              "#fb9f3a"
             ],
             [
              0.8888888888888888,
              "#fdca26"
             ],
             [
              1,
              "#f0f921"
             ]
            ],
            "type": "surface"
           }
          ],
          "table": [
           {
            "cells": {
             "fill": {
              "color": "#EBF0F8"
             },
             "line": {
              "color": "white"
             }
            },
            "header": {
             "fill": {
              "color": "#C8D4E3"
             },
             "line": {
              "color": "white"
             }
            },
            "type": "table"
           }
          ]
         },
         "layout": {
          "annotationdefaults": {
           "arrowcolor": "#2a3f5f",
           "arrowhead": 0,
           "arrowwidth": 1
          },
          "autotypenumbers": "strict",
          "coloraxis": {
           "colorbar": {
            "outlinewidth": 0,
            "ticks": ""
           }
          },
          "colorscale": {
           "diverging": [
            [
             0,
             "#8e0152"
            ],
            [
             0.1,
             "#c51b7d"
            ],
            [
             0.2,
             "#de77ae"
            ],
            [
             0.3,
             "#f1b6da"
            ],
            [
             0.4,
             "#fde0ef"
            ],
            [
             0.5,
             "#f7f7f7"
            ],
            [
             0.6,
             "#e6f5d0"
            ],
            [
             0.7,
             "#b8e186"
            ],
            [
             0.8,
             "#7fbc41"
            ],
            [
             0.9,
             "#4d9221"
            ],
            [
             1,
             "#276419"
            ]
           ],
           "sequential": [
            [
             0,
             "#0d0887"
            ],
            [
             0.1111111111111111,
             "#46039f"
            ],
            [
             0.2222222222222222,
             "#7201a8"
            ],
            [
             0.3333333333333333,
             "#9c179e"
            ],
            [
             0.4444444444444444,
             "#bd3786"
            ],
            [
             0.5555555555555556,
             "#d8576b"
            ],
            [
             0.6666666666666666,
             "#ed7953"
            ],
            [
             0.7777777777777778,
             "#fb9f3a"
            ],
            [
             0.8888888888888888,
             "#fdca26"
            ],
            [
             1,
             "#f0f921"
            ]
           ],
           "sequentialminus": [
            [
             0,
             "#0d0887"
            ],
            [
             0.1111111111111111,
             "#46039f"
            ],
            [
             0.2222222222222222,
             "#7201a8"
            ],
            [
             0.3333333333333333,
             "#9c179e"
            ],
            [
             0.4444444444444444,
             "#bd3786"
            ],
            [
             0.5555555555555556,
             "#d8576b"
            ],
            [
             0.6666666666666666,
             "#ed7953"
            ],
            [
             0.7777777777777778,
             "#fb9f3a"
            ],
            [
             0.8888888888888888,
             "#fdca26"
            ],
            [
             1,
             "#f0f921"
            ]
           ]
          },
          "colorway": [
           "#636efa",
           "#EF553B",
           "#00cc96",
           "#ab63fa",
           "#FFA15A",
           "#19d3f3",
           "#FF6692",
           "#B6E880",
           "#FF97FF",
           "#FECB52"
          ],
          "font": {
           "color": "#2a3f5f"
          },
          "geo": {
           "bgcolor": "white",
           "lakecolor": "white",
           "landcolor": "#E5ECF6",
           "showlakes": true,
           "showland": true,
           "subunitcolor": "white"
          },
          "hoverlabel": {
           "align": "left"
          },
          "hovermode": "closest",
          "mapbox": {
           "style": "light"
          },
          "paper_bgcolor": "white",
          "plot_bgcolor": "#E5ECF6",
          "polar": {
           "angularaxis": {
            "gridcolor": "white",
            "linecolor": "white",
            "ticks": ""
           },
           "bgcolor": "#E5ECF6",
           "radialaxis": {
            "gridcolor": "white",
            "linecolor": "white",
            "ticks": ""
           }
          },
          "scene": {
           "xaxis": {
            "backgroundcolor": "#E5ECF6",
            "gridcolor": "white",
            "gridwidth": 2,
            "linecolor": "white",
            "showbackground": true,
            "ticks": "",
            "zerolinecolor": "white"
           },
           "yaxis": {
            "backgroundcolor": "#E5ECF6",
            "gridcolor": "white",
            "gridwidth": 2,
            "linecolor": "white",
            "showbackground": true,
            "ticks": "",
            "zerolinecolor": "white"
           },
           "zaxis": {
            "backgroundcolor": "#E5ECF6",
            "gridcolor": "white",
            "gridwidth": 2,
            "linecolor": "white",
            "showbackground": true,
            "ticks": "",
            "zerolinecolor": "white"
           }
          },
          "shapedefaults": {
           "line": {
            "color": "#2a3f5f"
           }
          },
          "ternary": {
           "aaxis": {
            "gridcolor": "white",
            "linecolor": "white",
            "ticks": ""
           },
           "baxis": {
            "gridcolor": "white",
            "linecolor": "white",
            "ticks": ""
           },
           "bgcolor": "#E5ECF6",
           "caxis": {
            "gridcolor": "white",
            "linecolor": "white",
            "ticks": ""
           }
          },
          "title": {
           "x": 0.05
          },
          "xaxis": {
           "automargin": true,
           "gridcolor": "white",
           "linecolor": "white",
           "ticks": "",
           "title": {
            "standoff": 15
           },
           "zerolinecolor": "white",
           "zerolinewidth": 2
          },
          "yaxis": {
           "automargin": true,
           "gridcolor": "white",
           "linecolor": "white",
           "ticks": "",
           "title": {
            "standoff": 15
           },
           "zerolinecolor": "white",
           "zerolinewidth": 2
          }
         }
        },
        "title": {
         "font": {
          "color": "white"
         },
         "text": "Average Ratings of Games Over Time"
        },
        "xaxis": {
         "tickfont": {
          "color": "white"
         },
         "title": {
          "text": "Year"
         }
        },
        "yaxis": {
         "tickfont": {
          "color": "white"
         },
         "title": {
          "text": "Average Rating"
         }
        }
       }
      },
      "text/html": [
       "<div>                            <div id=\"5af17036-510a-4a9a-bdd3-49ada3401018\" class=\"plotly-graph-div\" style=\"height:525px; width:100%;\"></div>            <script type=\"text/javascript\">                require([\"plotly\"], function(Plotly) {                    window.PLOTLYENV=window.PLOTLYENV || {};                                    if (document.getElementById(\"5af17036-510a-4a9a-bdd3-49ada3401018\")) {                    Plotly.newPlot(                        \"5af17036-510a-4a9a-bdd3-49ada3401018\",                        [{\"line\":{\"color\":\"rgb(148, 0, 211)\"},\"marker\":{\"color\":\"rgb(148, 0, 211)\"},\"mode\":\"lines+markers\",\"name\":\"Average Rating\",\"x\":[1980.0,1982.0,1985.0,1986.0,1987.0,1988.0,1989.0,1990.0,1991.0,1992.0,1993.0,1994.0,1995.0,1996.0,1997.0,1998.0,1999.0,2000.0,2001.0,2002.0,2003.0,2004.0,2005.0,2006.0,2007.0,2008.0,2009.0,2010.0,2011.0,2012.0,2013.0,2014.0,2015.0,2016.0,2017.0,2018.0,2019.0,2020.0,2021.0,2022.0,2023.0,2024.0,2025.0],\"y\":[3.4,3.6,3.5,3.275,2.766666666666667,3.5200000000000005,3.88,3.6666666666666665,3.463636363636364,3.466666666666667,3.733333333333333,4.072727272727272,3.8083333333333336,3.6599999999999997,3.688888888888889,4.10625,3.656,3.933333333333333,3.756666666666667,3.8,3.6384615384615384,3.8837837837837834,3.8243902439024393,3.709375,3.656,3.722727272727273,3.6950000000000003,3.7586206896551726,3.82,3.61,3.5558823529411767,3.5,3.5589041095890415,3.6959999999999997,3.71,3.8155844155844156,3.84367816091954,3.7689189189189185,3.7948453608247426,3.731818181818182,3.6,null,null],\"type\":\"scatter\"}],                        {\"template\":{\"data\":{\"bar\":[{\"error_x\":{\"color\":\"#2a3f5f\"},\"error_y\":{\"color\":\"#2a3f5f\"},\"marker\":{\"line\":{\"color\":\"#E5ECF6\",\"width\":0.5},\"pattern\":{\"fillmode\":\"overlay\",\"size\":10,\"solidity\":0.2}},\"type\":\"bar\"}],\"barpolar\":[{\"marker\":{\"line\":{\"color\":\"#E5ECF6\",\"width\":0.5},\"pattern\":{\"fillmode\":\"overlay\",\"size\":10,\"solidity\":0.2}},\"type\":\"barpolar\"}],\"carpet\":[{\"aaxis\":{\"endlinecolor\":\"#2a3f5f\",\"gridcolor\":\"white\",\"linecolor\":\"white\",\"minorgridcolor\":\"white\",\"startlinecolor\":\"#2a3f5f\"},\"baxis\":{\"endlinecolor\":\"#2a3f5f\",\"gridcolor\":\"white\",\"linecolor\":\"white\",\"minorgridcolor\":\"white\",\"startlinecolor\":\"#2a3f5f\"},\"type\":\"carpet\"}],\"choropleth\":[{\"colorbar\":{\"outlinewidth\":0,\"ticks\":\"\"},\"type\":\"choropleth\"}],\"contour\":[{\"colorbar\":{\"outlinewidth\":0,\"ticks\":\"\"},\"colorscale\":[[0.0,\"#0d0887\"],[0.1111111111111111,\"#46039f\"],[0.2222222222222222,\"#7201a8\"],[0.3333333333333333,\"#9c179e\"],[0.4444444444444444,\"#bd3786\"],[0.5555555555555556,\"#d8576b\"],[0.6666666666666666,\"#ed7953\"],[0.7777777777777778,\"#fb9f3a\"],[0.8888888888888888,\"#fdca26\"],[1.0,\"#f0f921\"]],\"type\":\"contour\"}],\"contourcarpet\":[{\"colorbar\":{\"outlinewidth\":0,\"ticks\":\"\"},\"type\":\"contourcarpet\"}],\"heatmap\":[{\"colorbar\":{\"outlinewidth\":0,\"ticks\":\"\"},\"colorscale\":[[0.0,\"#0d0887\"],[0.1111111111111111,\"#46039f\"],[0.2222222222222222,\"#7201a8\"],[0.3333333333333333,\"#9c179e\"],[0.4444444444444444,\"#bd3786\"],[0.5555555555555556,\"#d8576b\"],[0.6666666666666666,\"#ed7953\"],[0.7777777777777778,\"#fb9f3a\"],[0.8888888888888888,\"#fdca26\"],[1.0,\"#f0f921\"]],\"type\":\"heatmap\"}],\"heatmapgl\":[{\"colorbar\":{\"outlinewidth\":0,\"ticks\":\"\"},\"colorscale\":[[0.0,\"#0d0887\"],[0.1111111111111111,\"#46039f\"],[0.2222222222222222,\"#7201a8\"],[0.3333333333333333,\"#9c179e\"],[0.4444444444444444,\"#bd3786\"],[0.5555555555555556,\"#d8576b\"],[0.6666666666666666,\"#ed7953\"],[0.7777777777777778,\"#fb9f3a\"],[0.8888888888888888,\"#fdca26\"],[1.0,\"#f0f921\"]],\"type\":\"heatmapgl\"}],\"histogram\":[{\"marker\":{\"pattern\":{\"fillmode\":\"overlay\",\"size\":10,\"solidity\":0.2}},\"type\":\"histogram\"}],\"histogram2d\":[{\"colorbar\":{\"outlinewidth\":0,\"ticks\":\"\"},\"colorscale\":[[0.0,\"#0d0887\"],[0.1111111111111111,\"#46039f\"],[0.2222222222222222,\"#7201a8\"],[0.3333333333333333,\"#9c179e\"],[0.4444444444444444,\"#bd3786\"],[0.5555555555555556,\"#d8576b\"],[0.6666666666666666,\"#ed7953\"],[0.7777777777777778,\"#fb9f3a\"],[0.8888888888888888,\"#fdca26\"],[1.0,\"#f0f921\"]],\"type\":\"histogram2d\"}],\"histogram2dcontour\":[{\"colorbar\":{\"outlinewidth\":0,\"ticks\":\"\"},\"colorscale\":[[0.0,\"#0d0887\"],[0.1111111111111111,\"#46039f\"],[0.2222222222222222,\"#7201a8\"],[0.3333333333333333,\"#9c179e\"],[0.4444444444444444,\"#bd3786\"],[0.5555555555555556,\"#d8576b\"],[0.6666666666666666,\"#ed7953\"],[0.7777777777777778,\"#fb9f3a\"],[0.8888888888888888,\"#fdca26\"],[1.0,\"#f0f921\"]],\"type\":\"histogram2dcontour\"}],\"mesh3d\":[{\"colorbar\":{\"outlinewidth\":0,\"ticks\":\"\"},\"type\":\"mesh3d\"}],\"parcoords\":[{\"line\":{\"colorbar\":{\"outlinewidth\":0,\"ticks\":\"\"}},\"type\":\"parcoords\"}],\"pie\":[{\"automargin\":true,\"type\":\"pie\"}],\"scatter\":[{\"marker\":{\"colorbar\":{\"outlinewidth\":0,\"ticks\":\"\"}},\"type\":\"scatter\"}],\"scatter3d\":[{\"line\":{\"colorbar\":{\"outlinewidth\":0,\"ticks\":\"\"}},\"marker\":{\"colorbar\":{\"outlinewidth\":0,\"ticks\":\"\"}},\"type\":\"scatter3d\"}],\"scattercarpet\":[{\"marker\":{\"colorbar\":{\"outlinewidth\":0,\"ticks\":\"\"}},\"type\":\"scattercarpet\"}],\"scattergeo\":[{\"marker\":{\"colorbar\":{\"outlinewidth\":0,\"ticks\":\"\"}},\"type\":\"scattergeo\"}],\"scattergl\":[{\"marker\":{\"colorbar\":{\"outlinewidth\":0,\"ticks\":\"\"}},\"type\":\"scattergl\"}],\"scattermapbox\":[{\"marker\":{\"colorbar\":{\"outlinewidth\":0,\"ticks\":\"\"}},\"type\":\"scattermapbox\"}],\"scatterpolar\":[{\"marker\":{\"colorbar\":{\"outlinewidth\":0,\"ticks\":\"\"}},\"type\":\"scatterpolar\"}],\"scatterpolargl\":[{\"marker\":{\"colorbar\":{\"outlinewidth\":0,\"ticks\":\"\"}},\"type\":\"scatterpolargl\"}],\"scatterternary\":[{\"marker\":{\"colorbar\":{\"outlinewidth\":0,\"ticks\":\"\"}},\"type\":\"scatterternary\"}],\"surface\":[{\"colorbar\":{\"outlinewidth\":0,\"ticks\":\"\"},\"colorscale\":[[0.0,\"#0d0887\"],[0.1111111111111111,\"#46039f\"],[0.2222222222222222,\"#7201a8\"],[0.3333333333333333,\"#9c179e\"],[0.4444444444444444,\"#bd3786\"],[0.5555555555555556,\"#d8576b\"],[0.6666666666666666,\"#ed7953\"],[0.7777777777777778,\"#fb9f3a\"],[0.8888888888888888,\"#fdca26\"],[1.0,\"#f0f921\"]],\"type\":\"surface\"}],\"table\":[{\"cells\":{\"fill\":{\"color\":\"#EBF0F8\"},\"line\":{\"color\":\"white\"}},\"header\":{\"fill\":{\"color\":\"#C8D4E3\"},\"line\":{\"color\":\"white\"}},\"type\":\"table\"}]},\"layout\":{\"annotationdefaults\":{\"arrowcolor\":\"#2a3f5f\",\"arrowhead\":0,\"arrowwidth\":1},\"autotypenumbers\":\"strict\",\"coloraxis\":{\"colorbar\":{\"outlinewidth\":0,\"ticks\":\"\"}},\"colorscale\":{\"diverging\":[[0,\"#8e0152\"],[0.1,\"#c51b7d\"],[0.2,\"#de77ae\"],[0.3,\"#f1b6da\"],[0.4,\"#fde0ef\"],[0.5,\"#f7f7f7\"],[0.6,\"#e6f5d0\"],[0.7,\"#b8e186\"],[0.8,\"#7fbc41\"],[0.9,\"#4d9221\"],[1,\"#276419\"]],\"sequential\":[[0.0,\"#0d0887\"],[0.1111111111111111,\"#46039f\"],[0.2222222222222222,\"#7201a8\"],[0.3333333333333333,\"#9c179e\"],[0.4444444444444444,\"#bd3786\"],[0.5555555555555556,\"#d8576b\"],[0.6666666666666666,\"#ed7953\"],[0.7777777777777778,\"#fb9f3a\"],[0.8888888888888888,\"#fdca26\"],[1.0,\"#f0f921\"]],\"sequentialminus\":[[0.0,\"#0d0887\"],[0.1111111111111111,\"#46039f\"],[0.2222222222222222,\"#7201a8\"],[0.3333333333333333,\"#9c179e\"],[0.4444444444444444,\"#bd3786\"],[0.5555555555555556,\"#d8576b\"],[0.6666666666666666,\"#ed7953\"],[0.7777777777777778,\"#fb9f3a\"],[0.8888888888888888,\"#fdca26\"],[1.0,\"#f0f921\"]]},\"colorway\":[\"#636efa\",\"#EF553B\",\"#00cc96\",\"#ab63fa\",\"#FFA15A\",\"#19d3f3\",\"#FF6692\",\"#B6E880\",\"#FF97FF\",\"#FECB52\"],\"font\":{\"color\":\"#2a3f5f\"},\"geo\":{\"bgcolor\":\"white\",\"lakecolor\":\"white\",\"landcolor\":\"#E5ECF6\",\"showlakes\":true,\"showland\":true,\"subunitcolor\":\"white\"},\"hoverlabel\":{\"align\":\"left\"},\"hovermode\":\"closest\",\"mapbox\":{\"style\":\"light\"},\"paper_bgcolor\":\"white\",\"plot_bgcolor\":\"#E5ECF6\",\"polar\":{\"angularaxis\":{\"gridcolor\":\"white\",\"linecolor\":\"white\",\"ticks\":\"\"},\"bgcolor\":\"#E5ECF6\",\"radialaxis\":{\"gridcolor\":\"white\",\"linecolor\":\"white\",\"ticks\":\"\"}},\"scene\":{\"xaxis\":{\"backgroundcolor\":\"#E5ECF6\",\"gridcolor\":\"white\",\"gridwidth\":2,\"linecolor\":\"white\",\"showbackground\":true,\"ticks\":\"\",\"zerolinecolor\":\"white\"},\"yaxis\":{\"backgroundcolor\":\"#E5ECF6\",\"gridcolor\":\"white\",\"gridwidth\":2,\"linecolor\":\"white\",\"showbackground\":true,\"ticks\":\"\",\"zerolinecolor\":\"white\"},\"zaxis\":{\"backgroundcolor\":\"#E5ECF6\",\"gridcolor\":\"white\",\"gridwidth\":2,\"linecolor\":\"white\",\"showbackground\":true,\"ticks\":\"\",\"zerolinecolor\":\"white\"}},\"shapedefaults\":{\"line\":{\"color\":\"#2a3f5f\"}},\"ternary\":{\"aaxis\":{\"gridcolor\":\"white\",\"linecolor\":\"white\",\"ticks\":\"\"},\"baxis\":{\"gridcolor\":\"white\",\"linecolor\":\"white\",\"ticks\":\"\"},\"bgcolor\":\"#E5ECF6\",\"caxis\":{\"gridcolor\":\"white\",\"linecolor\":\"white\",\"ticks\":\"\"}},\"title\":{\"x\":0.05},\"xaxis\":{\"automargin\":true,\"gridcolor\":\"white\",\"linecolor\":\"white\",\"ticks\":\"\",\"title\":{\"standoff\":15},\"zerolinecolor\":\"white\",\"zerolinewidth\":2},\"yaxis\":{\"automargin\":true,\"gridcolor\":\"white\",\"linecolor\":\"white\",\"ticks\":\"\",\"title\":{\"standoff\":15},\"zerolinecolor\":\"white\",\"zerolinewidth\":2}}},\"font\":{\"color\":\"white\"},\"plot_bgcolor\":\"rgb(17, 17, 17)\",\"paper_bgcolor\":\"rgb(17, 17, 17)\",\"xaxis\":{\"title\":{\"text\":\"Year\"},\"tickfont\":{\"color\":\"white\"}},\"yaxis\":{\"title\":{\"text\":\"Average Rating\"},\"tickfont\":{\"color\":\"white\"}},\"title\":{\"text\":\"Average Ratings of Games Over Time\",\"font\":{\"color\":\"white\"}}},                        {\"responsive\": true}                    ).then(function(){\n",
       "                            \n",
       "var gd = document.getElementById('5af17036-510a-4a9a-bdd3-49ada3401018');\n",
       "var x = new MutationObserver(function (mutations, observer) {{\n",
       "        var display = window.getComputedStyle(gd).display;\n",
       "        if (!display || display === 'none') {{\n",
       "            console.log([gd, 'removed!']);\n",
       "            Plotly.purge(gd);\n",
       "            observer.disconnect();\n",
       "        }}\n",
       "}});\n",
       "\n",
       "// Listen for the removal of the full notebook cells\n",
       "var notebookContainer = gd.closest('#notebook-container');\n",
       "if (notebookContainer) {{\n",
       "    x.observe(notebookContainer, {childList: true});\n",
       "}}\n",
       "\n",
       "// Listen for the clearing of the current output cell\n",
       "var outputEl = gd.closest('.output');\n",
       "if (outputEl) {{\n",
       "    x.observe(outputEl, {childList: true});\n",
       "}}\n",
       "\n",
       "                        })                };                });            </script>        </div>"
      ]
     },
     "metadata": {},
     "output_type": "display_data"
    }
   ],
   "source": [
    "# The Time Seires graph below shows the average ratings of games over time.\n",
    "# I wanted to look at how this metric fluctuated over time, as well as find the year with the highest average ratings.\n",
    "\n",
    "# Convert the \"Release Date\" column to datetime format\n",
    "df['Release Date'] = pd.to_datetime(df['Release Date'], errors='coerce')\n",
    "\n",
    "# Extract the year from the \"Release Date\" column\n",
    "df['Year'] = df['Release Date'].dt.year\n",
    "\n",
    "# Group the data by year and calculate the average rating\n",
    "average_ratings = df.groupby('Year')['Rating'].mean().reset_index()\n",
    "\n",
    "# Create a Plotly figure with a dark background\n",
    "fig = go.Figure()\n",
    "fig.update_layout(\n",
    "    plot_bgcolor='rgb(17, 17, 17)',\n",
    "    paper_bgcolor='rgb(17, 17, 17)',\n",
    "    font_color='white'\n",
    ")\n",
    "\n",
    "# Add the time series line plot with a purple line\n",
    "fig.add_trace(go.Scatter(\n",
    "    x=average_ratings['Year'],\n",
    "    y=average_ratings['Rating'],\n",
    "    mode='lines+markers',\n",
    "    marker=dict(color='rgb(148, 0, 211)'),  # Purple marker color\n",
    "    line=dict(color='rgb(148, 0, 211)'),  # Purple line color\n",
    "    name='Average Rating'\n",
    "))\n",
    "\n",
    "# Set axis labels and title\n",
    "fig.update_xaxes(title_text='Year', tickfont=dict(color='white'))\n",
    "fig.update_yaxes(title_text='Average Rating', tickfont=dict(color='white'))\n",
    "fig.update_layout(title='Average Ratings of Games Over Time', title_font_color='white')\n",
    "\n",
    "# Display the plot\n",
    "fig.show()"
   ]
  },
  {
   "cell_type": "code",
   "execution_count": 23,
   "id": "b737c07e",
   "metadata": {},
   "outputs": [
    {
     "name": "stdout",
     "output_type": "stream",
     "text": [
      "Year with the highest average rating: 1998\n",
      "Highest average rating: 4.11\n"
     ]
    }
   ],
   "source": [
    "# Convert the \"Release Date\" column to datetime format\n",
    "df['Release Date'] = pd.to_datetime(df['Release Date'], errors='coerce')\n",
    "\n",
    "# Extract the year from the \"Release Date\" column\n",
    "df['Year'] = df['Release Date'].dt.year\n",
    "\n",
    "# Group the data by year and calculate the average rating\n",
    "average_ratings = df.groupby('Year')['Rating'].mean().reset_index()\n",
    "\n",
    "# Find the year with the highest average rating\n",
    "max_average_rating_year = average_ratings.loc[average_ratings['Rating'].idxmax(), 'Year']\n",
    "max_average_rating = average_ratings['Rating'].max()\n",
    "\n",
    "print(\"Year with the highest average rating:\", round(max_average_rating_year))\n",
    "print(\"Highest average rating:\", round(max_average_rating,2))"
   ]
  },
  {
   "cell_type": "code",
   "execution_count": 71,
   "id": "1a3c25b6",
   "metadata": {},
   "outputs": [
    {
     "data": {
      "text/plain": [
       "Title                 object\n",
       "Release Date          object\n",
       "Team                  object\n",
       "Rating               float64\n",
       "Times Listed          object\n",
       "Number of Reviews     object\n",
       "Genres                object\n",
       "Summary               object\n",
       "Reviews               object\n",
       "Plays                 object\n",
       "Playing               object\n",
       "Backlogs              object\n",
       "dtype: object"
      ]
     },
     "execution_count": 71,
     "metadata": {},
     "output_type": "execute_result"
    }
   ],
   "source": [
    "# Now lets create a genre classification model using the variables that we have to predict the rating a game will \n",
    "# recieve. First, we need to make sure that our data is the correct type. Clearly, the numeric columns are not\n",
    "# numeric, so let's change that.\n",
    "\n",
    "data.dtypes[0:12]"
   ]
  },
  {
   "cell_type": "code",
   "execution_count": 73,
   "id": "79b59835",
   "metadata": {},
   "outputs": [
    {
     "data": {
      "text/html": [
       "<div>\n",
       "<style scoped>\n",
       "    .dataframe tbody tr th:only-of-type {\n",
       "        vertical-align: middle;\n",
       "    }\n",
       "\n",
       "    .dataframe tbody tr th {\n",
       "        vertical-align: top;\n",
       "    }\n",
       "\n",
       "    .dataframe thead th {\n",
       "        text-align: right;\n",
       "    }\n",
       "</style>\n",
       "<table border=\"1\" class=\"dataframe\">\n",
       "  <thead>\n",
       "    <tr style=\"text-align: right;\">\n",
       "      <th></th>\n",
       "      <th>Title</th>\n",
       "      <th>Release Date</th>\n",
       "      <th>Team</th>\n",
       "      <th>Rating</th>\n",
       "      <th>Times Listed</th>\n",
       "      <th>Number of Reviews</th>\n",
       "      <th>Genres</th>\n",
       "      <th>Summary</th>\n",
       "      <th>Reviews</th>\n",
       "      <th>Plays</th>\n",
       "      <th>Playing</th>\n",
       "      <th>Backlogs</th>\n",
       "      <th>Wishlist</th>\n",
       "    </tr>\n",
       "  </thead>\n",
       "  <tbody>\n",
       "    <tr>\n",
       "      <th>0</th>\n",
       "      <td>Elden Ring</td>\n",
       "      <td>Feb 25, 2022</td>\n",
       "      <td>['Bandai Namco Entertainment', 'FromSoftware']</td>\n",
       "      <td>4.5</td>\n",
       "      <td>3900.0</td>\n",
       "      <td>3900.0</td>\n",
       "      <td>['Adventure', 'RPG']</td>\n",
       "      <td>Elden Ring is a fantasy, action and open world...</td>\n",
       "      <td>[\"The first playthrough of elden ring is one o...</td>\n",
       "      <td>17000.0</td>\n",
       "      <td>3800.0</td>\n",
       "      <td>4600.0</td>\n",
       "      <td>4800.0</td>\n",
       "    </tr>\n",
       "    <tr>\n",
       "      <th>1</th>\n",
       "      <td>Hades</td>\n",
       "      <td>Dec 10, 2019</td>\n",
       "      <td>['Supergiant Games']</td>\n",
       "      <td>4.3</td>\n",
       "      <td>2900.0</td>\n",
       "      <td>2900.0</td>\n",
       "      <td>['Adventure', 'Brawler', 'Indie', 'RPG']</td>\n",
       "      <td>A rogue-lite hack and slash dungeon crawler in...</td>\n",
       "      <td>['convinced this is a roguelike for people who...</td>\n",
       "      <td>21000.0</td>\n",
       "      <td>3200.0</td>\n",
       "      <td>6300.0</td>\n",
       "      <td>3600.0</td>\n",
       "    </tr>\n",
       "    <tr>\n",
       "      <th>2</th>\n",
       "      <td>The Legend of Zelda: Breath of the Wild</td>\n",
       "      <td>Mar 03, 2017</td>\n",
       "      <td>['Nintendo', 'Nintendo EPD Production Group No...</td>\n",
       "      <td>4.4</td>\n",
       "      <td>4300.0</td>\n",
       "      <td>4300.0</td>\n",
       "      <td>['Adventure', 'RPG']</td>\n",
       "      <td>The Legend of Zelda: Breath of the Wild is the...</td>\n",
       "      <td>['This game is the game (that is not CS:GO) th...</td>\n",
       "      <td>30000.0</td>\n",
       "      <td>2500.0</td>\n",
       "      <td>5000.0</td>\n",
       "      <td>2600.0</td>\n",
       "    </tr>\n",
       "    <tr>\n",
       "      <th>3</th>\n",
       "      <td>Undertale</td>\n",
       "      <td>Sep 15, 2015</td>\n",
       "      <td>['tobyfox', '8-4']</td>\n",
       "      <td>4.2</td>\n",
       "      <td>3500.0</td>\n",
       "      <td>3500.0</td>\n",
       "      <td>['Adventure', 'Indie', 'RPG', 'Turn Based Stra...</td>\n",
       "      <td>A small child falls into the Underground, wher...</td>\n",
       "      <td>['soundtrack is tied for #1 with nier automata...</td>\n",
       "      <td>28000.0</td>\n",
       "      <td>679000.0</td>\n",
       "      <td>4900.0</td>\n",
       "      <td>1800.0</td>\n",
       "    </tr>\n",
       "    <tr>\n",
       "      <th>4</th>\n",
       "      <td>Hollow Knight</td>\n",
       "      <td>Feb 24, 2017</td>\n",
       "      <td>['Team Cherry']</td>\n",
       "      <td>4.4</td>\n",
       "      <td>3000.0</td>\n",
       "      <td>3000.0</td>\n",
       "      <td>['Adventure', 'Indie', 'Platform']</td>\n",
       "      <td>A 2D metroidvania with an emphasis on close co...</td>\n",
       "      <td>[\"this games worldbuilding is incredible, with...</td>\n",
       "      <td>21000.0</td>\n",
       "      <td>2400.0</td>\n",
       "      <td>8300.0</td>\n",
       "      <td>2300.0</td>\n",
       "    </tr>\n",
       "  </tbody>\n",
       "</table>\n",
       "</div>"
      ],
      "text/plain": [
       "                                     Title  Release Date  \\\n",
       "0                               Elden Ring  Feb 25, 2022   \n",
       "1                                    Hades  Dec 10, 2019   \n",
       "2  The Legend of Zelda: Breath of the Wild  Mar 03, 2017   \n",
       "3                                Undertale  Sep 15, 2015   \n",
       "4                            Hollow Knight  Feb 24, 2017   \n",
       "\n",
       "                                                Team  Rating  Times Listed  \\\n",
       "0     ['Bandai Namco Entertainment', 'FromSoftware']     4.5        3900.0   \n",
       "1                               ['Supergiant Games']     4.3        2900.0   \n",
       "2  ['Nintendo', 'Nintendo EPD Production Group No...     4.4        4300.0   \n",
       "3                                 ['tobyfox', '8-4']     4.2        3500.0   \n",
       "4                                    ['Team Cherry']     4.4        3000.0   \n",
       "\n",
       "   Number of Reviews                                             Genres  \\\n",
       "0             3900.0                               ['Adventure', 'RPG']   \n",
       "1             2900.0           ['Adventure', 'Brawler', 'Indie', 'RPG']   \n",
       "2             4300.0                               ['Adventure', 'RPG']   \n",
       "3             3500.0  ['Adventure', 'Indie', 'RPG', 'Turn Based Stra...   \n",
       "4             3000.0                 ['Adventure', 'Indie', 'Platform']   \n",
       "\n",
       "                                             Summary  \\\n",
       "0  Elden Ring is a fantasy, action and open world...   \n",
       "1  A rogue-lite hack and slash dungeon crawler in...   \n",
       "2  The Legend of Zelda: Breath of the Wild is the...   \n",
       "3  A small child falls into the Underground, wher...   \n",
       "4  A 2D metroidvania with an emphasis on close co...   \n",
       "\n",
       "                                             Reviews    Plays   Playing  \\\n",
       "0  [\"The first playthrough of elden ring is one o...  17000.0    3800.0   \n",
       "1  ['convinced this is a roguelike for people who...  21000.0    3200.0   \n",
       "2  ['This game is the game (that is not CS:GO) th...  30000.0    2500.0   \n",
       "3  ['soundtrack is tied for #1 with nier automata...  28000.0  679000.0   \n",
       "4  [\"this games worldbuilding is incredible, with...  21000.0    2400.0   \n",
       "\n",
       "   Backlogs  Wishlist  \n",
       "0    4600.0    4800.0  \n",
       "1    6300.0    3600.0  \n",
       "2    5000.0    2600.0  \n",
       "3    4900.0    1800.0  \n",
       "4    8300.0    2300.0  "
      ]
     },
     "execution_count": 73,
     "metadata": {},
     "output_type": "execute_result"
    }
   ],
   "source": [
    "# Select the columns to convert and remove the 'K'\n",
    "columns_to_convert = ['Times Listed', 'Number of Reviews', 'Plays', 'Playing', 'Backlogs', 'Wishlist']\n",
    "data[columns_to_convert] = data[columns_to_convert].replace('K', '', regex=True)\n",
    "\n",
    "# Multiply the values by 1000 and convert to float\n",
    "data[columns_to_convert] = data[columns_to_convert].astype(float) * 1000\n",
    "\n",
    "# Verify the updated DataFrame\n",
    "data.head()"
   ]
  },
  {
   "cell_type": "code",
   "execution_count": 84,
   "id": "9440885a",
   "metadata": {},
   "outputs": [
    {
     "name": "stderr",
     "output_type": "stream",
     "text": [
      "/var/folders/bn/cbv7ftpx4cx24wl0rz52v1z00000gn/T/ipykernel_89042/3241134991.py:21: SettingWithCopyWarning:\n",
      "\n",
      "\n",
      "A value is trying to be set on a copy of a slice from a DataFrame.\n",
      "Try using .loc[row_indexer,col_indexer] = value instead\n",
      "\n",
      "See the caveats in the documentation: https://pandas.pydata.org/pandas-docs/stable/user_guide/indexing.html#returning-a-view-versus-a-copy\n",
      "\n"
     ]
    },
    {
     "name": "stdout",
     "output_type": "stream",
     "text": [
      "RandomForestClassifier Accuracy: 0.46\n",
      "GradientBoostingClassifier Accuracy: 0.43\n",
      "SVC Accuracy: 0.12\n",
      "LogisticRegression Accuracy: 0.07\n"
     ]
    },
    {
     "name": "stderr",
     "output_type": "stream",
     "text": [
      "/Users/adishsundar/opt/anaconda3/lib/python3.9/site-packages/sklearn/linear_model/_logistic.py:814: ConvergenceWarning:\n",
      "\n",
      "lbfgs failed to converge (status=1):\n",
      "STOP: TOTAL NO. of ITERATIONS REACHED LIMIT.\n",
      "\n",
      "Increase the number of iterations (max_iter) or scale the data as shown in:\n",
      "    https://scikit-learn.org/stable/modules/preprocessing.html\n",
      "Please also refer to the documentation for alternative solver options:\n",
      "    https://scikit-learn.org/stable/modules/linear_model.html#logistic-regression\n",
      "\n"
     ]
    }
   ],
   "source": [
    "# Creating various machine learning models to test the accuracies of our models in different ways.\n",
    "\n",
    "# Comparing Random Forest, Gradient Boosting, SVC, and Logstic Regression.\n",
    "\n",
    "# As can be seen below, the RandomForestClassifier Accuracy is the best at .46. This indicates that \n",
    "# the best model predicted the correct genre for 46% of the instances in the test set. Lets see if we can make this \n",
    "# accuracy better.\n",
    "\n",
    "from sklearn.model_selection import train_test_split\n",
    "from sklearn.preprocessing import LabelEncoder\n",
    "from sklearn.ensemble import RandomForestClassifier, GradientBoostingClassifier\n",
    "from sklearn.svm import SVC\n",
    "from sklearn.linear_model import LogisticRegression\n",
    "from sklearn.metrics import accuracy_score\n",
    "from sklearn.impute import SimpleImputer\n",
    "\n",
    "# Preprocess the data by splitting it into features (ratings and sentiment scores) and the target variable (genres)\n",
    "X = data[['Times Listed', 'Number of Reviews', 'Plays', 'Playing', 'Backlogs', 'Wishlist', 'Rating']]\n",
    "y = data['Genres']\n",
    "\n",
    "# Replace missing values with the mean of the column\n",
    "imputer = SimpleImputer(strategy='mean')\n",
    "X[['Times Listed', 'Number of Reviews', 'Plays', 'Playing', 'Backlogs', 'Wishlist', 'Rating']] = imputer.fit_transform(X[['Times Listed', 'Number of Reviews', 'Plays', 'Playing', 'Backlogs', 'Wishlist', 'Rating']])\n",
    "\n",
    "# Encode the target variable (genres) using LabelEncoder:\n",
    "label_encoder = LabelEncoder()\n",
    "y_encoded = label_encoder.fit_transform(y)\n",
    "\n",
    "# Split the data into training and testing sets\n",
    "X_train, X_test, y_train, y_test = train_test_split(X, y_encoded, test_size=0.1, random_state=42)\n",
    "\n",
    "# Create and train different classifiers\n",
    "classifiers = [\n",
    "    RandomForestClassifier(n_estimators=100, random_state=42),\n",
    "    GradientBoostingClassifier(random_state=42),\n",
    "    SVC(kernel='rbf', random_state=42),\n",
    "    LogisticRegression(random_state=42)\n",
    "]\n",
    "\n",
    "for classifier in classifiers:\n",
    "    classifier.fit(X_train, y_train)\n",
    "    y_pred = classifier.predict(X_test)\n",
    "    accuracy = accuracy_score(y_test, y_pred)\n",
    "    print(type(classifier).__name__, \"Accuracy:\", round(accuracy, 2))"
   ]
  },
  {
   "cell_type": "code",
   "execution_count": 86,
   "id": "caea18b6",
   "metadata": {},
   "outputs": [
    {
     "name": "stdout",
     "output_type": "stream",
     "text": [
      "Bagging Random Forest Classifier Accuracy: 0.47\n"
     ]
    }
   ],
   "source": [
    "# We improved the model accuracy here using Baggining ensemble techniques, lets see if Boosting is better or worse\n",
    "\n",
    "from sklearn.ensemble import BaggingClassifier\n",
    "\n",
    "# Create an ensemble of Random Forest classifiers using bagging\n",
    "bagging_classifier = BaggingClassifier(RandomForestClassifier(n_estimators=100, random_state=42), \n",
    "                                      n_estimators=10, random_state=42)\n",
    "\n",
    "# Train the bagging classifier\n",
    "bagging_classifier.fit(X_train, y_train)\n",
    "\n",
    "# Make predictions on the test set\n",
    "y_pred = bagging_classifier.predict(X_test)\n",
    "\n",
    "# Calculate accuracy\n",
    "accuracy = accuracy_score(y_test, y_pred)\n",
    "print(\"Bagging Random Forest Classifier Accuracy:\", round(accuracy, 2))"
   ]
  },
  {
   "cell_type": "code",
   "execution_count": 88,
   "id": "3d3f55b8",
   "metadata": {},
   "outputs": [
    {
     "name": "stdout",
     "output_type": "stream",
     "text": [
      "Gradient Boosting Random Forest Classifier Accuracy: 0.43\n"
     ]
    }
   ],
   "source": [
    "# This model accuracy is worse, so we can conclude that using Bagging with a Random Forest Clasifier\n",
    "# is the best model.\n",
    "\n",
    "from sklearn.ensemble import GradientBoostingClassifier\n",
    "\n",
    "# Create a Gradient Boosting classifier\n",
    "boosting_classifier = GradientBoostingClassifier(n_estimators=100, random_state=42)\n",
    "\n",
    "# Train the boosting classifier\n",
    "boosting_classifier.fit(X_train, y_train)\n",
    "\n",
    "# Make predictions on the test set\n",
    "y_pred = boosting_classifier.predict(X_test)\n",
    "\n",
    "# Calculate accuracy\n",
    "accuracy = accuracy_score(y_test, y_pred)\n",
    "print(\"Gradient Boosting Random Forest Classifier Accuracy:\", round(accuracy, 2))"
   ]
  },
  {
   "cell_type": "code",
   "execution_count": null,
   "id": "6e11b7a3",
   "metadata": {},
   "outputs": [],
   "source": [
    "# Lastly, I wanted to use ML and NLP through tensorflow and keras to train a model based off of the Reviews in\n",
    "# the dataset to generate new game reviews, however my macbook did not have nearly enough processing capacity to get\n",
    "# anything close to a decent model, as my kernal for this notebook would die anytime I tried to create a semi\n",
    "# sophisticated model.\n",
    "\n",
    "# Overall I'm really happy with eveything was able to look at throughout this project. Even what didn't go as planned\n",
    "# still taught me a lot and this is definitely a project I'll remember for a long time. "
   ]
  }
 ],
 "metadata": {
  "kernelspec": {
   "display_name": "Python 3 (ipykernel)",
   "language": "python",
   "name": "python3"
  },
  "language_info": {
   "codemirror_mode": {
    "name": "ipython",
    "version": 3
   },
   "file_extension": ".py",
   "mimetype": "text/x-python",
   "name": "python",
   "nbconvert_exporter": "python",
   "pygments_lexer": "ipython3",
   "version": "3.9.12"
  }
 },
 "nbformat": 4,
 "nbformat_minor": 5
}
